{
  "cells": [
    {
      "cell_type": "markdown",
      "metadata": {
        "colab_type": "text",
        "id": "u6w5RPG8Nv1p"
      },
      "source": [
        "## Step 1: Read data"
      ]
    },
    {
      "cell_type": "code",
      "execution_count": null,
      "metadata": {
        "colab": {},
        "colab_type": "code",
        "id": "FL1ZbFyONpaz",
        "vscode": {
          "languageId": "python"
        }
      },
      "outputs": [],
      "source": [
        "from google.colab import drive\n",
        "drive.mount('/content/drive')"
      ]
    },
    {
      "cell_type": "code",
      "execution_count": null,
      "metadata": {
        "colab": {},
        "colab_type": "code",
        "id": "ZeLoTUdUN3ap",
        "vscode": {
          "languageId": "python"
        }
      },
      "outputs": [],
      "source": [
        "import cv2\n",
        "import glob\n",
        "import numpy as np\n",
        "from matplotlib import pyplot as plt\n",
        "from google.colab.patches import cv2_imshow\n",
        "from tqdm import tqdm_notebook\n",
        "from keras.optimizers import Adam, SGD"
      ]
    },
    {
      "cell_type": "code",
      "execution_count": null,
      "metadata": {
        "colab": {},
        "colab_type": "code",
        "id": "m7MJgSg4OJXD",
        "vscode": {
          "languageId": "python"
        }
      },
      "outputs": [],
      "source": [
        "train_img_path = \"/content/drive/My Drive/jobe/dataset/train/*.jpg\"\n",
        "train_label_path = \"/content/drive/My Drive/jobe/dataset/train/*.txt\"\n",
        "test_img_path = \"/content/drive/My Drive/jobe/dataset/valid/*.jpg\"\n",
        "test_label_path = \"/content/drive/My Drive/jobe/dataset/valid/*.txt\""
      ]
    },
    {
      "cell_type": "code",
      "execution_count": null,
      "metadata": {
        "colab": {},
        "colab_type": "code",
        "id": "YigYtI_bONx6",
        "vscode": {
          "languageId": "python"
        }
      },
      "outputs": [],
      "source": [
        "def read_data(image_path, label_path):  \n",
        "  templates_files = glob.glob(image_path)\n",
        "  templates = []\n",
        "  labels = []\n",
        "  for tn in tqdm_notebook(range(len(templates_files)), desc = 'load images'):\n",
        "    t = templates_files[tn]\n",
        "    img = cv2.imread(t)\n",
        "    templates.append(img)\n",
        "    labels.append(t.split('/')[-1].split('.')[0])\n",
        "  labels, templates = zip(*sorted(zip(labels, templates)))\n",
        "  print('# images : {}'.format(len(templates)))\n",
        "  # read txt files. output format: [#box, #calss, x1, y1, x2, y2]\n",
        "  labels_files = glob.glob(label_path)\n",
        "  true_labes = []\n",
        "  labels = []\n",
        "  for tn in tqdm_notebook(range(len(labels_files)), desc = 'load labels'):\n",
        "    file_path = labels_files[tn]\n",
        "    x, y, w, h, label = [], [], [], [], []\n",
        "    with open(file_path) as fp:\n",
        "      for cnt, line in enumerate(fp):\n",
        "        ww = int(float(line.split(' ')[2])) - int(float(line.split(' ')[0]))\n",
        "        hh = int(float(line.split(' ')[3])) - int(float(line.split(' ')[1]))\n",
        "        x.append(int(float(line.split(' ')[0])) + (ww/2))\n",
        "        y.append(int(float(line.split(' ')[1])) + (hh/2))\n",
        "        w.append(ww)\n",
        "        h.append(hh)\n",
        "        label.append(int(float(line.split(' ')[4])))\n",
        "    box_per_image = np.asarray(list(zip(label, x, y, w, h)))\n",
        "    true_labes.append(np.asarray(box_per_image))\n",
        "    labels.append(file_path.split('/')[-1].split('.')[0])\n",
        "  labels, true_labes = zip(*sorted(zip(labels, true_labes)))\n",
        "  print('# labels : {}'.format(len(true_labes)))\n",
        "  return templates, true_labes ## (cx, cy, w, h)\n",
        "\n",
        "def plot_one_sample(sample, label, score = False, org_image = False):\n",
        "  n_classes = 2\n",
        "  classes = ['background', 'baseball', 'tennis']\n",
        "  colors = ['red', 'blue']\n",
        "  plt.figure(figsize=(20,12))\n",
        "  plt.imshow(sample)\n",
        "  current_axis = plt.gca()\n",
        "  for box in label:\n",
        "    if score == True:\n",
        "      w = box[4]\n",
        "      h = box[5]\n",
        "      x = box[2] - (w/2)\n",
        "      y = box[3] - (h/2)\n",
        "    else:\n",
        "      w = box[3]\n",
        "      h = box[4]\n",
        "      x = box[1] - (w/2)\n",
        "      y = box[2] - (h/2)\n",
        "    if org_image == True:\n",
        "      new_size = 300\n",
        "      hh = sample.shape[0] / new_size\n",
        "      ww = sample.shape[1] / new_size\n",
        "      w = w*ww\n",
        "      h = h*hh\n",
        "      x = x*ww\n",
        "      y = y*hh\n",
        "      \n",
        "    color = colors[int(box[0]) - 1]\n",
        "    label = '{}'.format(classes[int(box[0])])\n",
        "    current_axis.add_patch(plt.Rectangle((x, y), w, h, color=color, fill=False, linewidth=2)) \n",
        "    if score == True: \n",
        "      current_axis.text(x, y, '{}'.format(round(box[1], 2)), size='x-large', color='white', bbox={'facecolor':color, 'alpha':1.0})"
      ]
    },
    {
      "cell_type": "markdown",
      "metadata": {},
      "source": [
        "#### load training images along with corespanding labels"
      ]
    },
    {
      "cell_type": "code",
      "execution_count": 5,
      "metadata": {
        "colab": {
          "base_uri": "https://localhost:8080/",
          "height": 151,
          "referenced_widgets": [
            "c15849d0038e4318a5f4d1046270a126",
            "78b3fe4e95fd4f92a8095e464f963860",
            "65593cc097564dc5be0a7c52c4ec0235",
            "018926d824d149aa915b2fe655243331",
            "38ed8047fd38455bbf01d3b218e4ccb5",
            "1aa8b77b93254037aa4d2fe662de847f",
            "e0141c70308e4ca9bc32e82b66915469",
            "c23abe7926bb4caca5fd1d8072945ae0",
            "4c5222f9b2434aa1817ab98d028bfd7d",
            "e64a024e4587462a9a3c3892c0d0eba3",
            "e2b3ea3d735e448a83be332c9d6b1663",
            "887cca0fbb584a7fb819b6c588974cc0",
            "9221a3c711ab4d3cae196bff55173d1e",
            "6b7f0ee7911a46c4915baaff80f7f15c",
            "716ececcaea746cbb5c9e93a48d86feb",
            "32cfbdbc92264d6aa7c74f737d2dadfe"
          ]
        },
        "colab_type": "code",
        "id": "JhP218txSH2L",
        "outputId": "4e9268a5-a1b9-46fa-b575-d8b5cb1ba3b2",
        "vscode": {
          "languageId": "python"
        }
      },
      "outputs": [
        {
          "data": {
            "application/vnd.jupyter.widget-view+json": {
              "model_id": "c15849d0038e4318a5f4d1046270a126",
              "version_major": 2,
              "version_minor": 0
            },
            "text/plain": [
              "HBox(children=(IntProgress(value=0, description='load images', max=316, style=ProgressStyle(description_width=…"
            ]
          },
          "metadata": {
            "tags": []
          },
          "output_type": "display_data"
        },
        {
          "name": "stdout",
          "output_type": "stream",
          "text": [
            "\n",
            "# images : 316\n"
          ]
        },
        {
          "data": {
            "application/vnd.jupyter.widget-view+json": {
              "model_id": "4c5222f9b2434aa1817ab98d028bfd7d",
              "version_major": 2,
              "version_minor": 0
            },
            "text/plain": [
              "HBox(children=(IntProgress(value=0, description='load labels', max=316, style=ProgressStyle(description_width=…"
            ]
          },
          "metadata": {
            "tags": []
          },
          "output_type": "display_data"
        },
        {
          "name": "stdout",
          "output_type": "stream",
          "text": [
            "\n",
            "# labels : 316\n"
          ]
        }
      ],
      "source": [
        "## load\n",
        "train_image, train_label = read_data(train_img_path, train_label_path)"
      ]
    },
    {
      "cell_type": "markdown",
      "metadata": {},
      "source": [
        "## step 2: Augmentation"
      ]
    },
    {
      "cell_type": "code",
      "execution_count": null,
      "metadata": {
        "colab": {},
        "colab_type": "code",
        "id": "K6pby0dwb8dh",
        "vscode": {
          "languageId": "python"
        }
      },
      "outputs": [],
      "source": [
        "\n",
        "def augment_data(img, label):\n",
        "  aug_data = []\n",
        "  aug_label = []\n",
        "  for i in tqdm_notebook(range(len(img)), desc = 'Augmentating data'):\n",
        "    aug_data.append(img[i])\n",
        "    aug_label.append(label[i])\n",
        "    if len(label[i]) > 0 :\n",
        "      one = np.copy(img[i])\n",
        "      one_label = np.copy(label[i])\n",
        "      img_h, img_w, img_c = one.shape\n",
        "      # 180 cv2.ROTATE_180\n",
        "      new_label = []\n",
        "      for box in one_label: # class, cx, cy, w, h\n",
        "        box[1] = img_w - box[1]\n",
        "        box[2] = img_h - box[2]\n",
        "        new_label.append(box)\n",
        "      img_rotate_180 = cv2.rotate(one, cv2.ROTATE_180)\n",
        "      aug_data.append(img_rotate_180)\n",
        "      aug_label.append(new_label)\n",
        "\n",
        "      # 90 clockwize\n",
        "      one = np.copy(img[i])\n",
        "      one_label = np.copy(label[i])\n",
        "      img_h, img_w, img_c = one.shape\n",
        "      new_label = []\n",
        "      for box in one_label:\n",
        "        cx, cy, w, h = box[1], box[2], box[3], box[4]\n",
        "        box[1] = img_h - cy\n",
        "        box[2] = cx\n",
        "        box[3] = h\n",
        "        box[4] = w\n",
        "        new_label.append(box)\n",
        "      img_rotate_90_cl = cv2.rotate(one, cv2.ROTATE_90_CLOCKWISE)\n",
        "      aug_data.append(img_rotate_90_cl)\n",
        "      aug_label.append(new_label)\n",
        "\n",
        "      # 90 COUNTERCLOCKWISE\n",
        "      one = np.copy(img[i])\n",
        "      one_label = np.copy(label[i])\n",
        "      img_h, img_w, img_c = one.shape\n",
        "      new_label = []\n",
        "      for box in one_label:\n",
        "        cx, cy, w, h = box[1], box[2], box[3], box[4]\n",
        "        box[1] = cy\n",
        "        box[2] = img_w - cx\n",
        "        box[3] = h\n",
        "        box[4] = w\n",
        "        new_label.append(box)\n",
        "      img_rotate_90_co = cv2.rotate(one, cv2.ROTATE_90_COUNTERCLOCKWISE)\n",
        "      aug_data.append(img_rotate_90_co)\n",
        "      aug_label.append(new_label)\n",
        "  \n",
        "  # np.save('/content/drive/My Drive/jobe/dataset/augmented/aug_data.npy', aug_data)\n",
        "  # np.save('/content/drive/My Drive/jobe/dataset/augmented/aug_label.npy', aug_label)\n",
        "\n",
        "  return aug_data, aug_label"
      ]
    },
    {
      "cell_type": "code",
      "execution_count": 7,
      "metadata": {
        "colab": {
          "base_uri": "https://localhost:8080/",
          "height": 67,
          "referenced_widgets": [
            "3d429ca158694ee1b0dd188f32459c4d",
            "1fce74b7f11f48f7a1e62712038b6451",
            "67b17baf58e34b8da594d4044c481654",
            "00616595982d4cf8bc5951e7ec1661ff",
            "77e79611763a4d688ccb51c04551b576",
            "a60fdd04a6774be682370f0c18bbafcf",
            "7f69ef8e96e540568369e2633d7df40b",
            "84f26aef306d42889f6114241933aa4f"
          ]
        },
        "colab_type": "code",
        "id": "EnHskxoIgtrm",
        "outputId": "9100cd6b-9f3d-461f-cd6e-7e655f1ca36c",
        "vscode": {
          "languageId": "python"
        }
      },
      "outputs": [
        {
          "data": {
            "application/vnd.jupyter.widget-view+json": {
              "model_id": "3d429ca158694ee1b0dd188f32459c4d",
              "version_major": 2,
              "version_minor": 0
            },
            "text/plain": [
              "HBox(children=(IntProgress(value=0, description='Augmentating data', max=316, style=ProgressStyle(description_…"
            ]
          },
          "metadata": {
            "tags": []
          },
          "output_type": "display_data"
        },
        {
          "name": "stdout",
          "output_type": "stream",
          "text": [
            "\n"
          ]
        }
      ],
      "source": [
        "aug_data, aug_label = augment_data(train_image, train_label)\n",
        "# aug_data = np.load('/content/drive/My Drive/jobe/dataset/augmented/aug_data.npy', allow_pickle= True)\n",
        "# aug_label = np.load('/content/drive/My Drive/jobe/dataset/augmented/aug_label.npy', allow_pickle= True)"
      ]
    },
    {
      "cell_type": "code",
      "execution_count": 8,
      "metadata": {
        "colab": {
          "base_uri": "https://localhost:8080/",
          "height": 35
        },
        "colab_type": "code",
        "id": "LxcLd24q1818",
        "outputId": "e46cc864-ae18-4f96-b61f-fe5326df1852",
        "vscode": {
          "languageId": "python"
        }
      },
      "outputs": [
        {
          "data": {
            "text/plain": [
              "868"
            ]
          },
          "execution_count": 8,
          "metadata": {
            "tags": []
          },
          "output_type": "execute_result"
        }
      ],
      "source": [
        "len(aug_data)"
      ]
    },
    {
      "cell_type": "markdown",
      "metadata": {
        "colab_type": "text",
        "id": "kDFC2WwmuOkY"
      },
      "source": [
        "## Step 3: design model"
      ]
    },
    {
      "cell_type": "code",
      "execution_count": null,
      "metadata": {
        "colab": {},
        "colab_type": "code",
        "id": "K6Wp5G1buQwY",
        "vscode": {
          "languageId": "python"
        }
      },
      "outputs": [],
      "source": [
        "from keras.layers import Input, Conv2D, Reshape, MaxPooling2D, Concatenate, Activation\n",
        "from keras.models import Model\n",
        "\n",
        "def ssd_model(input_shape = (300,300,3), n_class= 2, unc = False, add_weight = True):\n",
        "\n",
        "  n_class += 1 # +1 forunc and bg\n",
        "  if unc == True:\n",
        "    n_class += 1\n",
        "\n",
        "  # VGG16 : .../keras_applications/vgg16.py\n",
        "  img_input = Input(shape=input_shape, name='input')\n",
        "  # Block 1\n",
        "  conv1_1 =  Conv2D(64, (3, 3), activation='relu', padding='same', name='conv1_1')(img_input)\n",
        "  conv1_2 =  Conv2D(64, (3, 3), activation='relu', padding='same', name='conv1_2')(conv1_1)\n",
        "  pool1 =  MaxPooling2D((2, 2), strides=(2, 2), padding='same', name='pool1')(conv1_2)\n",
        "  # Block 2\n",
        "  conv2_1 =  Conv2D(128, (3, 3), activation='relu', padding='same', name='conv2_1')(pool1)\n",
        "  conv2_2 =  Conv2D(128, (3, 3), activation='relu', padding='same', name='conv2_2')(conv2_1)\n",
        "  pool2 =  MaxPooling2D((2, 2), strides=(2, 2), padding='same', name='pool2')(conv2_2)\n",
        "  # Block 3\n",
        "  conv3_1 =  Conv2D(256, (3, 3), activation='relu', padding='same', name='conv3_1')(pool2)\n",
        "  conv3_2 =  Conv2D(256, (3, 3), activation='relu', padding='same', name='conv3_2')(conv3_1)\n",
        "  conv3_3 =  Conv2D(256, (3, 3), activation='relu', padding='same', name='conv3_3')(conv3_2)\n",
        "  pool3 =  MaxPooling2D((2, 2), strides=(2, 2), padding='same', name='pool3')(conv3_3)\n",
        "  # Block 4\n",
        "  conv4_1 =  Conv2D(512, (3, 3), activation='relu', padding='same', name='conv4_1')(pool3)\n",
        "  conv4_2 =  Conv2D(512, (3, 3), activation='relu', padding='same', name='conv4_2')(conv4_1)\n",
        "  conv4_3 =  Conv2D(512, (3, 3), activation='relu', padding='same', name='conv4_3')(conv4_2)\n",
        "  pool4 =  MaxPooling2D((2, 2), strides=(2, 2), padding='same', name='pool4')(conv4_3)\n",
        "  # Block 5\n",
        "  conv5_1 =  Conv2D(512, (3, 3), activation='relu', padding='same', name='conv5_1')(pool4)\n",
        "  conv5_2 =  Conv2D(512, (3, 3), activation='relu', padding='same', name='conv5_2')(conv5_1)\n",
        "  conv5_3 =  Conv2D(512, (3, 3), activation='relu', padding='same', name='conv5_3')(conv5_2)\n",
        "  pool5 =  MaxPooling2D((2, 2), strides=(2, 2), padding='same', name='pool5')(conv5_3)\n",
        "\n",
        "  ##\n",
        "  FC6 = Conv2D(1024, (3, 3), activation='relu', padding='same', name='conv6')(conv5_3)\n",
        "  FC7 = Conv2D(1024, (1, 1), activation='relu', padding='same', name='conv7')(FC6)\n",
        "\n",
        "  conv8_1 = Conv2D(256, (1, 1), activation='relu', padding='same', name='conv8_1')(FC7)\n",
        "  conv8_2 = Conv2D(512, (3, 3), strides=(2, 2), activation='relu', padding='same', name='conv8_2')(conv8_1)\n",
        "\n",
        "  conv9_1 = Conv2D(128, (1, 1), activation='relu', padding='same', name='conv9_1')(conv8_2)\n",
        "  conv9_2 = Conv2D(256, (3, 3), strides=(2, 2), activation='relu', padding='same', name='conv9_2')(conv9_1)\n",
        "\n",
        "  conv10_1 = Conv2D(128, (1, 1), activation='relu', padding='same', name='conv10_1')(conv9_2)\n",
        "  conv10_2 = Conv2D(256, (3, 3), strides=(1, 1), activation='relu', padding='valid', name='conv10_2')(conv10_1)\n",
        "\n",
        "  conv11_1 = Conv2D(128, (1, 1), activation='relu', padding='same', name='conv11_1')(conv10_2)\n",
        "  conv11_2 = Conv2D(256, (3, 3), strides=(1, 1), activation='relu', padding='valid', name='conv11_2')(conv11_1)\n",
        "\n",
        "  n_boxes = [4, 6, 6, 6, 4, 4]\n",
        "  ##class\n",
        "  conv4_3_class =  Conv2D(n_boxes[0]*n_class, (3, 3), activation='relu', padding='same', name='conv4_3_class')(conv4_3)\n",
        "  conv7_class =  Conv2D(n_boxes[1]*n_class, (3, 3), activation='relu', padding='same', name='conv7_class')(FC7)\n",
        "  conv8_2_class =  Conv2D(n_boxes[2]*n_class, (3, 3), activation='relu', padding='same', name='conv8_2_class')(conv8_2)\n",
        "  conv9_2_class =  Conv2D(n_boxes[3]*n_class, (3, 3), activation='relu', padding='same', name='conv9_2_class')(conv9_2)\n",
        "  conv10_2_class =  Conv2D(n_boxes[4]*n_class, (3, 3), activation='relu', padding='same', name='conv10_2_class')(conv10_2)\n",
        "  conv11_2_class =  Conv2D(n_boxes[5]*n_class, (3, 3), activation='relu', padding='same', name='conv11_2_class')(conv11_2)\n",
        "\n",
        "  ##box\n",
        "  conv4_3_box =  Conv2D(n_boxes[0]*4, (3, 3), activation='relu', padding='same', name='conv4_3_box')(conv4_3)\n",
        "  conv7_box =  Conv2D(n_boxes[1]*4, (3, 3), activation='relu', padding='same', name='conv7_box')(FC7)\n",
        "  conv8_2_box =  Conv2D(n_boxes[2]*4, (3, 3), activation='relu', padding='same', name='conv8_2_box')(conv8_2)\n",
        "  conv9_2_box =  Conv2D(n_boxes[3]*4, (3, 3), activation='relu', padding='same', name='conv9_2_box')(conv9_2)\n",
        "  conv10_2_box =  Conv2D(n_boxes[4]*4, (3, 3), activation='relu', padding='same', name='conv10_2_box')(conv10_2)\n",
        "  conv11_2_box =  Conv2D(n_boxes[5]*4, (3, 3), activation='relu', padding='same', name='conv11_2_box')(conv11_2)\n",
        "\n",
        "  # reshape for concatenate\n",
        "  conv4_3_class =  Reshape((-1, n_class), name='conv4_3_class_reshape')(conv4_3_class)\n",
        "  conv7_class =  Reshape((-1, n_class), name='conv7_class_reshape')(conv7_class)\n",
        "  conv8_2_class =  Reshape((-1, n_class), name='conv8_2_class_reshape')(conv8_2_class)\n",
        "  conv9_2_class =  Reshape((-1, n_class), name='conv9_2_class_reshape')(conv9_2_class)\n",
        "  conv10_2_class =  Reshape((-1, n_class), name='conv10_2_class_reshape')(conv10_2_class)\n",
        "  conv11_2_class =  Reshape((-1, n_class), name='conv11_2_class_reshape')(conv11_2_class)\n",
        "\n",
        "  conv4_3_box =  Reshape((-1, 4), name='conv4_3_box_reshape')(conv4_3_box)\n",
        "  conv7_box =  Reshape((-1, 4), name='conv7_box_reshape')(conv7_box)\n",
        "  conv8_2_box =  Reshape((-1, 4), name='conv8_2_box_reshape')(conv8_2_box)\n",
        "  conv9_2_box =  Reshape((-1, 4), name='conv9_2_box_reshape')(conv9_2_box)\n",
        "  conv10_2_box =  Reshape((-1, 4), name='conv10_2_box_reshape')(conv10_2_box)\n",
        "  conv11_2_box =  Reshape((-1, 4), name='conv11_2_box_reshape')(conv11_2_box)\n",
        "\n",
        "  #concatenate\n",
        "  pred_classes = Concatenate(axis=1, name='pred_class')([conv4_3_class,\n",
        "                                                       conv7_class,\n",
        "                                                       conv8_2_class,\n",
        "                                                       conv9_2_class,\n",
        "                                                       conv10_2_class,\n",
        "                                                       conv11_2_class])\n",
        "  \n",
        "  pred_classes = Activation('softmax', name='pred_classes_softmax')(pred_classes)\n",
        "  \n",
        "  pred_boxes = Concatenate(axis=1, name='pred_box')([conv4_3_box,\n",
        "                                                       conv7_box,\n",
        "                                                       conv8_2_box,\n",
        "                                                       conv9_2_box,\n",
        "                                                       conv10_2_box,\n",
        "                                                       conv11_2_box])\n",
        "  \n",
        "  predictions = Concatenate(axis=2, name='predictions')([pred_classes, pred_boxes]) ## 8\n",
        "  model = Model(img_input, predictions, name= 'ssd_model')\n",
        "\n",
        "  if add_weight == True:\n",
        "    model.load_weights('/content/drive/My Drive/jobe/dataset/models/VGG_ILSVRC_16_layers_fc_reduced.h5', by_name=True)\n",
        "\n",
        "  return model\n",
        "\n",
        "\n",
        "import tensorflow as tf\n",
        "from keras import backend as K\n",
        "def Loss_loc(y_true, y_pred):\n",
        "  absolute_loss = tf.abs(y_true - y_pred)\n",
        "  square_loss = 0.5 * (y_true - y_pred)**2\n",
        "  l1_loss = tf.where(tf.less(absolute_loss, 1.0), square_loss, absolute_loss - 0.5)\n",
        "  l1_loss = tf.reduce_sum(l1_loss, axis = -1)\n",
        "  return l1_loss\n",
        "\n",
        "def Loss_conf(y_true, y_pred):\n",
        "  # Make sure that `y_pred` doesn't contain any zeros (which would break the log function)\n",
        "  y_pred = tf.maximum(y_pred, 1e-15)\n",
        "  # Compute the log loss\n",
        "  log_loss = -tf.reduce_sum(y_true * tf.log(y_pred), axis=-1)\n",
        "  return log_loss\n",
        "\n",
        "def ssd_Loss(y_true, y_pred):\n",
        "  alpha = 1.0\n",
        "  neg_pos_ratio = 3\n",
        "  n_neg_min = 0\n",
        "  neg_pos_ratio = tf.constant(neg_pos_ratio)\n",
        "  n_neg_min = tf.constant(n_neg_min)\n",
        "  alpha = tf.constant(alpha)\n",
        "\n",
        "  batch_size = tf.shape(y_pred)[0] \n",
        "  n_boxes = tf.shape(y_pred)[1] \n",
        "\n",
        "  classification_loss = tf.to_float(Loss_conf(y_true[:,:,:-4], y_pred[:,:,:-4])) # Output shape: (batch_size, n_boxes)\n",
        "  localization_loss = tf.to_float(Loss_loc(y_true[:,:,-4:], y_pred[:,:,-4:])) # Output shape: (batch_size, n_boxes)\n",
        "\n",
        "  negatives = y_true[:,:,1] # Tensor of shape (batch_size, n_boxes)\n",
        "  positives = tf.to_float(tf.reduce_max(y_true[:,:,1:-4], axis=-1)) # Tensor of shape (batch_size, n_boxes)\n",
        "\n",
        "  n_positive = tf.reduce_sum(positives)\n",
        "  pos_class_loss = tf.reduce_sum(classification_loss * positives, axis=-1) # Tensor of shape (batch_size,)\n",
        "\n",
        "  neg_class_loss_all = classification_loss * negatives # Tensor of shape (batch_size, n_boxes)\n",
        "  n_neg_losses = tf.count_nonzero(neg_class_loss_all, dtype=tf.int32) # The number of non-zero loss entries in `neg_class_loss_all`\n",
        "\n",
        "  n_negative_keep = tf.minimum(tf.maximum( neg_pos_ratio * tf.to_int32(n_positive),  n_neg_min), n_neg_losses)\n",
        "\n",
        "  def f1():\n",
        "    return tf.zeros([batch_size])\n",
        "  def f2():\n",
        "    neg_class_loss_all_1D = tf.reshape(neg_class_loss_all, [-1]) # Tensor of shape (batch_size * n_boxes,)\n",
        "    \n",
        "    values, indices = tf.nn.top_k(neg_class_loss_all_1D,\n",
        "                                          k=n_negative_keep,\n",
        "                                          sorted=False) \n",
        "           \n",
        "    negatives_keep = tf.scatter_nd(indices=tf.expand_dims(indices, axis=1),\n",
        "                                           updates=tf.ones_like(indices, dtype=tf.int32),\n",
        "                                           shape=tf.shape(neg_class_loss_all_1D)) # Tensor of shape (batch_size * n_boxes,)\n",
        "    negatives_keep = tf.to_float(tf.reshape(negatives_keep, [batch_size, n_boxes])) # Tensor of shape (batch_size, n_boxes)\n",
        "    \n",
        "    neg_class_loss = tf.reduce_sum(classification_loss * negatives_keep, axis=-1) # Tensor of shape (batch_size,)\n",
        "    return neg_class_loss\n",
        "\n",
        "  neg_class_loss = tf.cond(tf.equal(n_neg_losses, tf.constant(0)), f1, f2)\n",
        "\n",
        "  class_loss = pos_class_loss + neg_class_loss # Tensor of shape (batch_size,)\n",
        "\n",
        "  loc_loss = tf.reduce_sum(localization_loss * positives, axis=-1) # Tensor of shape (batch_size,)\n",
        "\n",
        "  total_loss = (class_loss +  alpha * loc_loss) / tf.maximum(1.0, n_positive) # In case `n_positive == 0`\n",
        "  total_loss = total_loss * tf.to_float(batch_size)\n",
        "\n",
        "  return total_loss\n"
      ]
    },
    {
      "cell_type": "code",
      "execution_count": null,
      "metadata": {
        "colab": {},
        "colab_type": "code",
        "id": "OREMKV0DyuYW",
        "vscode": {
          "languageId": "python"
        }
      },
      "outputs": [],
      "source": [
        "# model = ssd_model(unc = True, add_weight =True)\n",
        "# model.summary()"
      ]
    },
    {
      "cell_type": "markdown",
      "metadata": {
        "colab_type": "text",
        "id": "w2-EXmIF9bfQ"
      },
      "source": [
        "## step 4: Design anchor boxes"
      ]
    },
    {
      "cell_type": "code",
      "execution_count": null,
      "metadata": {
        "colab": {},
        "colab_type": "code",
        "id": "Fboh4Rx99_GQ",
        "vscode": {
          "languageId": "python"
        }
      },
      "outputs": [],
      "source": [
        "def anchor_boxes(image_size, feature_map_sizes, min_scale, max_scale, border_pad, aspect_ratios):\n",
        "  m = len(feature_map_sizes)\n",
        "  scales = []\n",
        "  for k in range(1, m+2):\n",
        "    sk = min_scale + ((max_scale-min_scale)*(k-1) / (m-1))\n",
        "    scales.append(round(sk, 2))\n",
        "  print(scales)\n",
        "  # scales = [0.05, 0.9, 0.17, 0.4, 0.55, 0.7, 0.9] \n",
        "\n",
        "  boxes_list = [] \n",
        "\n",
        "  steps = []\n",
        "  for i in range(len(feature_map_sizes)): ## i = 0 -- 38  len(feature_map_sizes)\n",
        "    print('feture map size : {}'.format(feature_map_sizes[i]))\n",
        "    wh_list = []\n",
        "    for ar in aspect_ratios[i]: ## [1, 2, 0.5]\n",
        "      if (ar == 1):\n",
        "        box_height = box_width = scales[i] * img_size\n",
        "        wh_list.append((box_width, box_height))\n",
        "        box_height = box_width = np.sqrt(scales[i] * scales[i+1]) * img_size\n",
        "        wh_list.append((box_width, box_height))\n",
        "      else:\n",
        "        box_width = scales[i] * img_size * np.sqrt(ar)\n",
        "        box_height = scales[i] * img_size / np.sqrt(ar)\n",
        "        wh_list.append((box_width, box_height))\n",
        "    wh_list = np.array(wh_list)\n",
        "    n_boxes = len(wh_list)\n",
        "    print('box per cell : {}'.format(n_boxes))\n",
        "\n",
        "    step = int(image_size / feature_map_sizes[i])\n",
        "    print('centers dist : {}'.format(step))\n",
        "    \n",
        "    cy = np.linspace(border_pad * step, (border_pad + feature_map_sizes[i] - 1) * step, feature_map_sizes[i])\n",
        "    cx = np.linspace(border_pad * step, (border_pad + feature_map_sizes[i] - 1) * step, feature_map_sizes[i])\n",
        "    cx_grid, cy_grid = np.meshgrid(cx, cy)\n",
        "    cx_grid = np.expand_dims(cx_grid, -1) \n",
        "    cy_grid = np.expand_dims(cy_grid, -1) \n",
        "\n",
        "    boxes_tensor = np.zeros((feature_map_sizes[i], feature_map_sizes[i], n_boxes, 4))\n",
        "\n",
        "    boxes_tensor[:, :, :, 0] = np.tile(cx_grid, (1, 1, n_boxes)) # Set cx\n",
        "    boxes_tensor[:, :, :, 1] = np.tile(cy_grid, (1, 1, n_boxes)) # Set cy\n",
        "    boxes_tensor[:, :, :, 2] = wh_list[:, 0] # Set w\n",
        "    boxes_tensor[:, :, :, 3] = wh_list[:, 1] # Set h\n",
        "\n",
        " \n",
        "    boxes_tensor_reshape = np.reshape(boxes_tensor, (-1, boxes_tensor.shape[3]))\n",
        "    print('box in layer : {}'.format(boxes_tensor_reshape.shape[0]))\n",
        "    print('---------------------------')\n",
        "    boxes_tensor[:, :, :, [0, 2]] /= img_size\n",
        "    boxes_tensor[:, :, :, [1, 3]] /= img_size\n",
        "\n",
        "    boxes_list.append(boxes_tensor_reshape)\n",
        "\n",
        "  boxes_list = np.concatenate(boxes_list)\n",
        "  boxes_list[boxes_list < 0] = 0\n",
        "  print('all anchor boxes : {}'.format(len(boxes_list)))\n",
        "  print('shape : {}'.format(boxes_list.shape))\n",
        "  return boxes_list ## boxes_list"
      ]
    },
    {
      "cell_type": "code",
      "execution_count": 12,
      "metadata": {
        "colab": {
          "base_uri": "https://localhost:8080/",
          "height": 598
        },
        "colab_type": "code",
        "id": "bwHefCQV-N8C",
        "outputId": "9110bdce-d40b-4009-c1b8-27895988e09b",
        "vscode": {
          "languageId": "python"
        }
      },
      "outputs": [
        {
          "name": "stdout",
          "output_type": "stream",
          "text": [
            "[0.05, 0.2, 0.35, 0.5, 0.65, 0.8, 0.95]\n",
            "feture map size : 38\n",
            "box per cell : 4\n",
            "centers dist : 7\n",
            "box in layer : 5776\n",
            "---------------------------\n",
            "feture map size : 19\n",
            "box per cell : 6\n",
            "centers dist : 15\n",
            "box in layer : 2166\n",
            "---------------------------\n",
            "feture map size : 10\n",
            "box per cell : 6\n",
            "centers dist : 30\n",
            "box in layer : 600\n",
            "---------------------------\n",
            "feture map size : 5\n",
            "box per cell : 6\n",
            "centers dist : 60\n",
            "box in layer : 150\n",
            "---------------------------\n",
            "feture map size : 3\n",
            "box per cell : 4\n",
            "centers dist : 100\n",
            "box in layer : 36\n",
            "---------------------------\n",
            "feture map size : 1\n",
            "box per cell : 4\n",
            "centers dist : 300\n",
            "box in layer : 4\n",
            "---------------------------\n",
            "all anchor boxes : 8732\n",
            "shape : (8732, 4)\n"
          ]
        }
      ],
      "source": [
        "all_anchor_boxes = anchor_boxes(img_size, feature_map_sizes, min_scale, max_scale, border_pad, aspect_ratios)"
      ]
    },
    {
      "cell_type": "markdown",
      "metadata": {
        "colab_type": "text",
        "id": "1aVVMxd3-Sst"
      },
      "source": [
        "## step 5: Set hyperparameters"
      ]
    },
    {
      "cell_type": "code",
      "execution_count": null,
      "metadata": {
        "colab": {},
        "colab_type": "code",
        "id": "VhreUS8m-ULc",
        "vscode": {
          "languageId": "python"
        }
      },
      "outputs": [],
      "source": [
        "## params :\n",
        "classes = ['background', 'baseball', 'tennis']\n",
        "img_size = 300\n",
        "feature_map_sizes = [38, 19, 10, 5, 3, 1]\n",
        "min_scale = 0.05\n",
        "max_scale = 0.8\n",
        "n_classes = 2 \n",
        "border_pad = 0.5\n",
        "aspect_ratios = [[1, 2, 0.5],\n",
        "                 [1, 2, 0.5, 3, 1/3],\n",
        "                 [1, 2, 0.5, 3, 1/3],\n",
        "                 [1, 2, 0.5, 3, 1/3],\n",
        "                 [1, 2, 0.5],\n",
        "                 [1, 2, 0.5]]\n",
        "\n",
        "max_iou_th = 0.5\n",
        "min_iou_th = 0.3"
      ]
    },
    {
      "cell_type": "markdown",
      "metadata": {
        "colab_type": "text",
        "id": "yzsoKLjh9eYI"
      },
      "source": [
        "## step 6: Prepare labels for ssd network"
      ]
    },
    {
      "cell_type": "code",
      "execution_count": null,
      "metadata": {
        "colab": {},
        "colab_type": "code",
        "id": "tdDwyvBu-eKh",
        "vscode": {
          "languageId": "python"
        }
      },
      "outputs": [],
      "source": [
        "def resize(images_org, boxes_org, new_size):\n",
        "  imgs = np.copy(images_org)\n",
        "  boxes = np.copy(boxes_org)\n",
        "  images = []\n",
        "  ## padding image\n",
        "  for im in imgs:\n",
        "    h_im, w_im, c_im = im.shape\n",
        "    if h_im == w_im:\n",
        "      images.append(padded_im)\n",
        "    elif h_im > w_im:\n",
        "      padded_im = cv2.copyMakeBorder(im.copy(), 0, 0, 0, h_im - w_im, cv2.BORDER_CONSTANT, value = 0)\n",
        "      images.append(padded_im)\n",
        "    elif w_im > h_im:\n",
        "      padded_im = cv2.copyMakeBorder(im.copy(), 0, w_im - h_im, 0, 0, cv2.BORDER_CONSTANT, value = 0)\n",
        "      images.append(padded_im)\n",
        "  # resize padded images\n",
        "  resized_imgs = [cv2.resize(tmp.copy(), (new_size, new_size), interpolation = cv2.INTER_AREA) for tmp in images]\n",
        "  resized_labels = []\n",
        "  for i in tqdm_notebook(range(len(images)), desc = 'resize'):\n",
        "    bxs = []\n",
        "    for box in boxes[i]:\n",
        "      h = new_size/ images[i].shape[0]\n",
        "      w = new_size / images[i].shape[1]\n",
        "      x1 = int(round(box[1]*w))\n",
        "      y1 = int(round(box[2]*h))\n",
        "      w1 = int(round(box[3]*w))\n",
        "      h1 = int(round(box[4]*h))\n",
        "      bxs.append([box[0], x1, y1, w1, h1])\n",
        "    resized_labels.append(np.asarray(bxs))\n",
        "  return resized_imgs, resized_labels\n",
        "\n",
        "def IoU(true_box, pred_box):\n",
        "  '''\n",
        "  box : [cx, cy, w, h]\n",
        "        [0, 1, 2, 3]\n",
        "  '''\n",
        "  cx = 0\n",
        "  cy = 1\n",
        "  w = 2\n",
        "  h = 3\n",
        "\n",
        "  t_area = true_box[w] * true_box[h]\n",
        "  p_area = pred_box[w] * pred_box[h]\n",
        "\n",
        "  # intersection area\n",
        "  I_x1 = max(true_box[cx] - (true_box[w] / 2), pred_box[cx] - (pred_box[w] / 2))\n",
        "  I_x2 = min(true_box[cx] + (true_box[w] / 2), pred_box[cx] + (pred_box[w] / 2))\n",
        "  I_y1 = max(true_box[cy] - (true_box[h] / 2), pred_box[cy] - (pred_box[h] / 2))\n",
        "  I_y2 = min(true_box[cy] + (true_box[h] / 2), pred_box[cy] + (pred_box[h] / 2))\n",
        "\n",
        "  intersection = (I_x2 - I_x1) * (I_y2 - I_y1)\n",
        "  if intersection <= 0 or I_x2 < I_x1 or I_y2 < I_y1:\n",
        "    return 0\n",
        "  \n",
        "  union = t_area + p_area - intersection\n",
        "  iou = intersection / union\n",
        "\n",
        "  return iou\n",
        "\n",
        "def ssd_prepare_label_unc(labels_org, min_iou = 0.3, max_iou = 0.5, n_classes = 2):\n",
        "  '''\n",
        "  labels input : [ c, cx, cy, w, h] c : 1 or 2\n",
        "                 \n",
        "  return : [unc, bg, c0, c1, ghat_cx, ghat_cy, ghat_w, ghat_h]\n",
        "    unc : if  min_iou < iou < max_iou --> 1\n",
        "    bg : if iou < min_iou --> 1\n",
        "    c0, c1 : if iou > max_iou --> one of this is 1\n",
        "\n",
        "  one_hot : array([[1., 0., 0., 0.],\n",
        "                   [0., 1., 0., 0.],\n",
        "                   [0., 0., 1., 0.],\n",
        "                   [0., 0., 0., 1.]])\n",
        "  '''\n",
        "  labels = np.copy(labels_org)\n",
        "  class_one_hot = np.eye(n_classes + 2)\n",
        "  # Pc = np.zeros((1,n_classes))\n",
        "  # class_label = np.concatenate((Pc,class_one_hot))\n",
        "  ssd_out = []\n",
        "  for img in tqdm_notebook(range(len(labels)), desc= 'ssd train labels:'):\n",
        "    ssd_label = np.zeros((len(all_anchor_boxes), 8)) # 8: unc, bg, c0, c1, bx1, by1, bx2, by2\n",
        "    one_img_label = labels[img]\n",
        "    if len(one_img_label) == 0:\n",
        "      ssd_label[:,:-4] = class_one_hot[1]\n",
        "    select_ind = []\n",
        "    unc_ind = []\n",
        "    for i in range(len(ssd_label)): ## 8732\n",
        "      for t in one_img_label: ## one box in image  target: [c, x1, y1, x2, y2]\n",
        "        target = t[-4:] / img_size\n",
        "        iou_val = IoU(all_anchor_boxes[i], target[-4:])\n",
        "        if iou_val > max_iou:\n",
        "          ssd_label[i][:-4] = class_one_hot[int(t[0]) + 1]\n",
        "          # calculate offsets\n",
        "          ssd_label[i][-4] = (target[-4] - all_anchor_boxes[i][-4]) / all_anchor_boxes[i][-2] / 0.1  # ghat_cx = (g_cx - d_cx) / d_w\n",
        "          ssd_label[i][-3] = (target[-3] - all_anchor_boxes[i][-3]) / all_anchor_boxes[i][-1] / 0.1  # ghat_cx = (g_cy - d_cy) / d_h\n",
        "          ssd_label[i][-2] = np.log(target[-2] / all_anchor_boxes[i][-2]) / 0.2 # ghat_w\n",
        "          ssd_label[i][-1] = np.log(target[-1] / all_anchor_boxes[i][-1]) / 0.2 # ghat_h\n",
        "          select_ind.append(i)\n",
        "\n",
        "        elif (min_iou <iou_val < max_iou) and (i not in select_ind):\n",
        "          ssd_label[i][:-4] = class_one_hot[0] ## set unc = 1\n",
        "          unc_ind.append(i)\n",
        "\n",
        "        elif (iou_val < min_iou) and (i not in select_ind) and (i not in unc_ind):\n",
        "          ssd_label[i][:-4] = class_one_hot[1] ## set bg = 1  \n",
        "\n",
        "    ssd_out.append(ssd_label)\n",
        "  ssd_out = np.asarray(ssd_out)\n",
        "  print('shape : {}'.format(ssd_out.shape))\n",
        "  return ssd_out\n",
        "\n",
        "def ssd_prepare_label_no_unc(labels_org, min_iou = 0.3, max_iou = 0.5, n_classes = 2):\n",
        "  '''\n",
        "  labels input : [ c, cx, cy, w, h] c : 1 or 2\n",
        "                 \n",
        "  return : [bg, c0, c1, ghat_cx, ghat_cy, ghat_w, ghat_h]\n",
        "    bg : if  min_iou < iou < max_iou --> 0\n",
        "    bg : if iou < min_iou --> 1\n",
        "    c0, c1 : if iou > max_iou --> one of this is 1\n",
        "\n",
        "  one_hot : array([[1., 0., 0.],\n",
        "                   [0., 1., 0.],\n",
        "                   [0., 0., 1.]])\n",
        "  '''\n",
        "  labels = np.copy(labels_org)\n",
        "  class_one_hot = np.eye(n_classes + 1)\n",
        "  ssd_out = []\n",
        "  for img in tqdm_notebook(range(len(labels)), desc= 'ssd train labels:'):\n",
        "    ssd_label = np.zeros((len(all_anchor_boxes), 7)) # 7: bg, c0, c1, bx1, by1, bx2, by2\n",
        "    one_img_label = labels[img]\n",
        "    if len(one_img_label) == 0:\n",
        "      ssd_label[:,:-4] = class_one_hot[0]\n",
        "    select_ind = []\n",
        "    unc_ind = []\n",
        "    for i in range(len(ssd_label)): ## 8732\n",
        "      for t in one_img_label: ## one box in image  target: [c, x1, y1, x2, y2]\n",
        "        target = t[-4:] / img_size\n",
        "        iou_val = IoU(all_anchor_boxes[i], target[-4:])\n",
        "        if iou_val > max_iou:\n",
        "          ssd_label[i][:-4] = class_one_hot[int(t[0])]\n",
        "          # calculate offsets\n",
        "          ssd_label[i][-4] = (target[-4] - all_anchor_boxes[i][-4]) / all_anchor_boxes[i][-2] / 0.1  # ghat_cx = (g_cx - d_cx) / d_w\n",
        "          ssd_label[i][-3] = (target[-3] - all_anchor_boxes[i][-3]) / all_anchor_boxes[i][-1] / 0.1  # ghat_cx = (g_cy - d_cy) / d_h\n",
        "          ssd_label[i][-2] = np.log(target[-2] / all_anchor_boxes[i][-2]) / 0.2 # ghat_w\n",
        "          ssd_label[i][-1] = np.log(target[-1] / all_anchor_boxes[i][-1]) / 0.2 # ghat_h\n",
        "          select_ind.append(i)\n",
        "\n",
        "        elif (min_iou <iou_val < max_iou) and (i not in select_ind):\n",
        "          unc_ind.append(i)\n",
        "\n",
        "        elif (iou_val < min_iou) and (i not in select_ind) and (i not in unc_ind):\n",
        "          ssd_label[i][:-4] = class_one_hot[0] ## set bg = 1  \n",
        "\n",
        "    ssd_out.append(ssd_label)\n",
        "  ssd_out = np.asarray(ssd_out)\n",
        "  print('shape : {}'.format(ssd_out.shape))\n",
        "  return ssd_out"
      ]
    },
    {
      "cell_type": "code",
      "execution_count": null,
      "metadata": {
        "colab": {},
        "colab_type": "code",
        "id": "o2jaxQQxLWNU",
        "vscode": {
          "languageId": "python"
        }
      },
      "outputs": [],
      "source": [
        "## test for resize\n",
        "# i = 146\n",
        "# aa, bb =resize(aug_data[i:i+1], aug_label[i:i+1], new_size = 300)\n",
        "# plot_one_sample(aa[0], bb[0])"
      ]
    },
    {
      "cell_type": "code",
      "execution_count": 14,
      "metadata": {
        "colab": {
          "base_uri": "https://localhost:8080/",
          "height": 134,
          "referenced_widgets": [
            "4cb446681b56474c981b4ccd7e113952",
            "71474ad00a924cf0985287f082df4de3",
            "3a5774a909784125b0269c3ebf8e465b",
            "be68fd17317c4ae2aa9467059b9f328f",
            "e45d3356c14449849f4bfa47cbd0adc2",
            "3590797aa10a4534870d66504d4269d7",
            "2df48654c840401fb8c1498d27571252",
            "af5fe74f2cbf445aab864bcc68e1a47b",
            "c182ec61f2da47c381fbb30c77747a10",
            "919fb4502496483c92926ec63fc26b15",
            "fb99dde26464405a8ff99aa5921a59b2",
            "71fe534f304c48caa9c57681c0a65ad8",
            "b30349d38b4945008fad1e090a269353",
            "8e6c000b9a7e453eb41adc9a8a275ec8",
            "64786602cecb4a0bbce00727b79783be",
            "a6d255fe4f1b4113a7028be0da6300ae"
          ]
        },
        "colab_type": "code",
        "id": "zwdHNHHGBO--",
        "outputId": "c9958a6e-949c-4c37-a9d8-c3b0d9da1bed",
        "vscode": {
          "languageId": "python"
        }
      },
      "outputs": [
        {
          "data": {
            "application/vnd.jupyter.widget-view+json": {
              "model_id": "4cb446681b56474c981b4ccd7e113952",
              "version_major": 2,
              "version_minor": 0
            },
            "text/plain": [
              "HBox(children=(IntProgress(value=0, description='resize', max=868, style=ProgressStyle(description_width='init…"
            ]
          },
          "metadata": {
            "tags": []
          },
          "output_type": "display_data"
        },
        {
          "name": "stdout",
          "output_type": "stream",
          "text": [
            "\n"
          ]
        },
        {
          "data": {
            "application/vnd.jupyter.widget-view+json": {
              "model_id": "c182ec61f2da47c381fbb30c77747a10",
              "version_major": 2,
              "version_minor": 0
            },
            "text/plain": [
              "HBox(children=(IntProgress(value=0, description='ssd train labels:', max=868, style=ProgressStyle(description_…"
            ]
          },
          "metadata": {
            "tags": []
          },
          "output_type": "display_data"
        },
        {
          "name": "stdout",
          "output_type": "stream",
          "text": [
            "\n",
            "shape : (868, 8732, 7)\n"
          ]
        }
      ],
      "source": [
        "# aug_data, aug_label\n",
        "train_image = np.copy(aug_data)\n",
        "train_label = np.copy(aug_label)\n",
        "re_train_image, re_train_label = resize(train_image, train_label, new_size=img_size)\n",
        "\n",
        "ssd_train_label = ssd_prepare_label_no_unc(re_train_label, min_iou = min_iou_th, max_iou = max_iou_th, n_classes = n_classes)\n",
        "np.save('/content/drive/My Drive/jobe/dataset/ssd_train_label_8.npy', ssd_train_label)\n",
        "ssd_train_img = np.asarray(re_train_image)\n",
        "ssd_train_img = ssd_train_img/255\n",
        "np.save('/content/drive/My Drive/jobe/dataset/ssd_train_img.npy', ssd_train_img)"
      ]
    },
    {
      "cell_type": "code",
      "execution_count": 16,
      "metadata": {
        "colab": {
          "base_uri": "https://localhost:8080/",
          "height": 52
        },
        "colab_type": "code",
        "id": "grPV4eyPGRid",
        "outputId": "c8c68396-2781-42a1-8175-682af76bf743",
        "vscode": {
          "languageId": "python"
        }
      },
      "outputs": [
        {
          "name": "stdout",
          "output_type": "stream",
          "text": [
            "(868, 8732, 7)\n",
            "(868, 300, 300, 3)\n"
          ]
        }
      ],
      "source": [
        "# ssd_train_y = np.load('/content/drive/My Drive/jobe/dataset/ssd_train_label_8.npy', allow_pickle= True)\n",
        "# ssd_train_x = np.load('/content/drive/My Drive/jobe/dataset/ssd_train_img.npy', allow_pickle= True)\n",
        "ssd_train_y = ssd_train_label\n",
        "ssd_train_x = ssd_train_img\n",
        "print(ssd_train_y.shape)\n",
        "print(ssd_train_x.shape)"
      ]
    },
    {
      "cell_type": "markdown",
      "metadata": {
        "colab_type": "text",
        "id": "kohDJY6GRM-K"
      },
      "source": [
        "## step 7: Deocde ssd out put labels (contain NMS)"
      ]
    },
    {
      "cell_type": "code",
      "execution_count": null,
      "metadata": {
        "colab": {},
        "colab_type": "code",
        "id": "JpNh_TAtRTtl",
        "vscode": {
          "languageId": "python"
        }
      },
      "outputs": [],
      "source": [
        "def NMS(one_image_pass, iou_th = 0.1):\n",
        "  '''\n",
        "  input : (n_box, 5) 9: score, cx, cy, w, h \n",
        "  out : (n_box, 5) 5: c, score, x, y, w, h\n",
        "  '''\n",
        "  queue = np.copy(one_image_pass)\n",
        "  nms_boxes = []\n",
        "  while queue.shape[0] > 0:\n",
        "    max_score_ind = np.argmax(queue[:,0])\n",
        "    candidate = queue[max_score_ind]\n",
        "    if len(nms_boxes) == 0:\n",
        "      nms_boxes.append(candidate)\n",
        "      queue = np.delete(queue, max_score_ind, axis=0)\n",
        "    elif len(nms_boxes) != 0:\n",
        "      similarity = []\n",
        "      for n in nms_boxes:\n",
        "        if IoU(n[-4:], candidate[-4:]) > iou_th :\n",
        "          similarity.append(n)\n",
        "      if len(similarity) == 0:\n",
        "        nms_boxes.append(candidate)\n",
        "      queue = np.delete(queue, max_score_ind, axis=0)\n",
        "    if queue.shape[0] == 0: break\n",
        "  nms_boxes = np.asarray(nms_boxes)\n",
        "  return nms_boxes\n",
        "\n",
        "def single_class_decode(one_image_labels, class_ind, conf_th, iou_th):\n",
        " \n",
        "  one_labels = np.copy(one_image_labels)\n",
        "  one_labels = one_labels[one_labels[:,class_ind] > conf_th]  ## array\n",
        "  if len(one_labels) > 0 :\n",
        "    s = one_labels[:,class_ind]\n",
        "    scores = np.reshape(s, (len(s), 1))\n",
        "    feed_nms = np.concatenate((scores,one_labels[:,-8:]), axis = 1)\n",
        "\n",
        "    anch_box = feed_nms[:,-4:]\n",
        "    offsets = feed_nms[:,-8:-4]\n",
        "    pred_box = np.copy(feed_nms[:,:-4])\n",
        "    pred_box[:,-4] = offsets[:,-4] * 0.1 * anch_box[:,-2] + anch_box[:,-4] # cx\n",
        "    pred_box[:,-3] = offsets[:,-3] * 0.1 * anch_box[:,-1] + anch_box[:,-3] # cy\n",
        "    pred_box[:,-2] = np.exp(offsets[:,-2] * 0.2) * anch_box[:,-2] \n",
        "    pred_box[:,-1] = np.exp(offsets[:,-1] * 0.2) * anch_box[:,-1]\n",
        "    pred_box[:,-4:] *= img_size\n",
        "\n",
        "    nms_pred = NMS(pred_box, iou_th) \n",
        "    \n",
        "    # print(pred_box.shape)\n",
        "    return nms_pred ## score, 4 box \n",
        "  else:\n",
        "    return np.array([])\n",
        "\n",
        "def decode_ssd_out(ssd_out, conf_th, iou_th, top_k):\n",
        "  '''\n",
        "  input labels : [#, bg, c0, c1, ghat_cx, ghat_cy, ghat_w, ghat_h] (#, 8732, 4)\n",
        "  out : [#, class_id, score, x, y, w, h] (#, 7)\n",
        "  '''\n",
        "  labels = np.copy(ssd_out) ##  * 8732 * 7\n",
        "  result_labels = []\n",
        "  for i in tqdm_notebook(range(len(labels))): ## in 1 image from len(labels)\n",
        "    one_image = labels[i]\n",
        "    #keep anchor box coordinate for decode labels\n",
        "    one_image = np.concatenate((one_image, all_anchor_boxes), axis = 1) ## (8732, 12) 8 for coordinate\n",
        "    all_box = []\n",
        "    for c in range(n_classes): # 0, 1\n",
        "      class_id = c + 1\n",
        "      class_ind = c + 1\n",
        "      box_per_class = single_class_decode(one_image, class_ind, conf_th, iou_th)\n",
        "      # if len(box_per_class) > top_k:\n",
        "      #   box_per_class = box_per_class[:top_k]\n",
        "      if len(box_per_class) != 0:\n",
        "        ids = np.full((len(box_per_class),1), class_id)\n",
        "        class_boxes = np.concatenate((ids, box_per_class), axis = 1)     \n",
        "        all_box.append(class_boxes)\n",
        "    if len(all_box) > 0:\n",
        "      all_box = np.concatenate(all_box)\n",
        "    if len(all_box) > top_k:\n",
        "      all_box = all_box[:top_k]\n",
        "    result_labels.append(all_box)\n",
        "\n",
        "  # result_labels = np.asarray(result_labels)\n",
        "  return result_labels"
      ]
    },
    {
      "cell_type": "markdown",
      "metadata": {
        "colab_type": "text",
        "id": "XGnZVgSg9r41"
      },
      "source": [
        "## step 8: Calculate mean average precision(mAP)"
      ]
    },
    {
      "cell_type": "code",
      "execution_count": null,
      "metadata": {
        "colab": {},
        "colab_type": "code",
        "id": "9pnwgm-tcthw",
        "vscode": {
          "languageId": "python"
        }
      },
      "outputs": [],
      "source": [
        "def mAP(graound_truth, predictions, iou_th = 0.25, n_class = 2, num_recall_points = 10):\n",
        "  '''\n",
        "  graound_truth : [class_id, cx, cy, w, h]\n",
        "  predictions : [class_id, score, cx, cy, w, h]\n",
        "  '''\n",
        "  class_ind = 1 # +1 for image index\n",
        "  # separate classes\n",
        "  classes_gt = []\n",
        "  classes_pr = []\n",
        "  # for c in range(n_class):\n",
        "  for c in range(n_class):\n",
        "    class_id = c + 1\n",
        "    one_gt = []\n",
        "    one_pr = []\n",
        "    for i in range(len(graound_truth)): # 1 image and i is image_id\n",
        "      image_id = i\n",
        "      if len(graound_truth[i]) > 0:\n",
        "        image_id_gt = np.full((len(graound_truth[i]),1), image_id)\n",
        "        one_image_gt = np.concatenate((image_id_gt, graound_truth[i]), axis = 1)\n",
        "        tmp_list = [one for one in one_image_gt if one[class_ind] == class_id]\n",
        "        if len(tmp_list) > 0:\n",
        "          one_gt.append(tmp_list)\n",
        "  \n",
        "      image_id_pr = np.full((len(predictions[i]),1), image_id)\n",
        "      one_image_pr = np.concatenate((image_id_pr, predictions[i]), axis = 1)\n",
        "      tmp = [one for one in one_image_pr if one[class_ind] == class_id]\n",
        "      if len(tmp) > 0:\n",
        "        one_pr.append(tmp)\n",
        "   \n",
        "    if len(one_gt) > 0:\n",
        "      one_gt = np.concatenate(one_gt)\n",
        "    if len(one_pr) > 0:\n",
        "      one_pr = np.concatenate(one_pr)\n",
        "\n",
        "    classes_gt.append(one_gt) # img_id , class_id, ...\n",
        "    classes_pr.append(one_pr) # img_id, class_id, ...\n",
        "\n",
        "  # len(classes_gt) = 2 \n",
        "  AP = []\n",
        "  for c in range(n_class):\n",
        "    flag = True\n",
        "    one_class_gt = classes_gt[c]\n",
        "    one_class_pr = classes_pr[c]\n",
        "    if len(one_class_pr) > 0 and len(one_class_gt) > 0:\n",
        "      one_class_pr_sorted = one_class_pr[one_class_pr[:,2].argsort()][::-1] # sort by scores\n",
        "\n",
        "      num_pred = len(one_class_pr_sorted)\n",
        "      num_gt = len(one_class_gt)\n",
        "      TP = np.zeros(num_pred)\n",
        "      FP = np.zeros(num_pred)\n",
        "      cum_TP = np.zeros(num_pred)\n",
        "      cum_FP = np.zeros(num_pred)\n",
        "      for i in range(num_pred):\n",
        "        one_pred_box = one_class_pr_sorted[i]\n",
        "        one_img_gt = [a for a in one_class_gt if a[0] == one_pred_box[0]]\n",
        "        if len(one_img_gt) > 0:\n",
        "          gt_mached = []\n",
        "          iou_list = []\n",
        "          for gt in range(len(one_img_gt)):\n",
        "            iou_list.append(IoU(one_img_gt[gt][-4:], one_pred_box[-4:]))\n",
        "          max_ind = np.argmax(iou_list)\n",
        "          if iou_list[max_ind] < iou_th:\n",
        "            FP[i] = 1\n",
        "          elif (iou_list[max_ind] > iou_th) and (max_ind not in gt_mached):\n",
        "            TP[i] = 1\n",
        "            gt_mached.append(max_ind)\n",
        "        elif len(one_img_gt) == 0:\n",
        "          FP[i] = 1\n",
        "\n",
        "        cum_TP[i] = np.sum(TP)\n",
        "        cum_FP[i] = np.sum(FP)\n",
        "\n",
        "      cum_precision = np.where(cum_TP + cum_FP > 0, cum_TP/(cum_TP + cum_FP), 0)\n",
        "      cum_recall = cum_TP / num_gt\n",
        "\n",
        "    elif len(one_class_pr) == 0:\n",
        "      cum_precision = 0\n",
        "      cum_recall = 0\n",
        "      flag = False\n",
        "\n",
        "    if flag :\n",
        "      average_precision = 0\n",
        "      for t in np.linspace(start=0, stop=1, num=num_recall_points, endpoint=True):\n",
        "        cum_prec_recall_greater_t = cum_precision[cum_recall >= t]\n",
        "        if cum_prec_recall_greater_t.size == 0:\n",
        "          precision = 0\n",
        "        else:\n",
        "          precision = np.amax(cum_prec_recall_greater_t)\n",
        "        average_precision += precision\n",
        "      average_precision /= num_recall_points\n",
        "    else :\n",
        "      average_precision = 0\n",
        "\n",
        "    AP.append(average_precision)\n",
        "  \n",
        "  mean_AP = np.average(AP)\n",
        "\n",
        "  return AP , mean_AP\n",
        "      "
      ]
    },
    {
      "cell_type": "markdown",
      "metadata": {
        "colab_type": "text",
        "id": "p-C5lh7790Mo"
      },
      "source": [
        "## step 9: train  SSD model"
      ]
    },
    {
      "cell_type": "code",
      "execution_count": 24,
      "metadata": {
        "colab": {
          "base_uri": "https://localhost:8080/",
          "height": 1000
        },
        "colab_type": "code",
        "id": "9DZtHvo-jOzf",
        "outputId": "9677c4fd-eeff-400c-c6bc-b25730ddb354",
        "vscode": {
          "languageId": "python"
        }
      },
      "outputs": [
        {
          "name": "stdout",
          "output_type": "stream",
          "text": [
            "868/868 [==============================] - 25s 29ms/step - loss: 3.5013\n",
            "Epoch 2/50\n",
            "868/868 [==============================] - 14s 16ms/step - loss: 2.9036\n",
            "Epoch 3/50\n",
            "868/868 [==============================] - 14s 16ms/step - loss: 2.5571\n",
            "Epoch 4/50\n",
            "868/868 [==============================] - 14s 16ms/step - loss: 2.4687\n",
            "Epoch 5/50\n",
            "868/868 [==============================] - 14s 16ms/step - loss: 2.3884\n",
            "Epoch 6/50\n",
            "868/868 [==============================] - 14s 16ms/step - loss: 2.3432\n",
            "Epoch 7/50\n",
            "868/868 [==============================] - 14s 16ms/step - loss: 2.3109\n",
            "Epoch 8/50\n",
            "868/868 [==============================] - 14s 16ms/step - loss: 2.2908\n",
            "Epoch 9/50\n",
            "868/868 [==============================] - 14s 16ms/step - loss: 2.2719\n",
            "Epoch 10/50\n",
            "868/868 [==============================] - 14s 16ms/step - loss: 2.2623\n",
            "Epoch 11/50\n",
            "868/868 [==============================] - 14s 16ms/step - loss: 2.2308\n",
            "Epoch 12/50\n",
            "868/868 [==============================] - 14s 16ms/step - loss: 2.2077\n",
            "Epoch 13/50\n",
            "868/868 [==============================] - 14s 16ms/step - loss: 2.2523\n",
            "Epoch 14/50\n",
            "868/868 [==============================] - 14s 16ms/step - loss: 2.1862\n",
            "Epoch 15/50\n",
            "868/868 [==============================] - 14s 16ms/step - loss: 2.1619\n",
            "Epoch 16/50\n",
            "868/868 [==============================] - 14s 16ms/step - loss: 2.1497\n",
            "Epoch 17/50\n",
            "868/868 [==============================] - 14s 16ms/step - loss: 2.1379\n",
            "Epoch 18/50\n",
            "868/868 [==============================] - 14s 16ms/step - loss: 2.1135\n",
            "Epoch 19/50\n",
            "868/868 [==============================] - 14s 16ms/step - loss: 2.1006\n",
            "Epoch 20/50\n",
            "868/868 [==============================] - 14s 16ms/step - loss: 2.0880\n",
            "Epoch 21/50\n",
            "868/868 [==============================] - 14s 16ms/step - loss: 2.1322\n",
            "Epoch 22/50\n",
            "868/868 [==============================] - 14s 16ms/step - loss: 2.1130\n",
            "Epoch 23/50\n",
            "868/868 [==============================] - 14s 16ms/step - loss: 2.1966\n",
            "Epoch 24/50\n",
            "868/868 [==============================] - 14s 16ms/step - loss: 2.0900\n",
            "Epoch 25/50\n",
            "868/868 [==============================] - 14s 16ms/step - loss: 2.0668\n",
            "Epoch 26/50\n",
            "868/868 [==============================] - 14s 16ms/step - loss: 2.0542\n",
            "Epoch 27/50\n",
            "868/868 [==============================] - 14s 16ms/step - loss: 2.0517\n",
            "Epoch 28/50\n",
            "868/868 [==============================] - 14s 16ms/step - loss: 2.0399\n",
            "Epoch 29/50\n",
            "868/868 [==============================] - 14s 16ms/step - loss: 2.0247\n",
            "Epoch 30/50\n",
            "868/868 [==============================] - 14s 16ms/step - loss: 2.0335\n",
            "Epoch 31/50\n",
            "868/868 [==============================] - 14s 16ms/step - loss: 2.0255\n",
            "Epoch 32/50\n",
            "868/868 [==============================] - 14s 16ms/step - loss: 2.0147\n",
            "Epoch 33/50\n",
            "868/868 [==============================] - 14s 16ms/step - loss: 2.0170\n",
            "Epoch 34/50\n",
            "868/868 [==============================] - 14s 16ms/step - loss: 2.0191\n",
            "Epoch 35/50\n",
            "868/868 [==============================] - 14s 16ms/step - loss: 2.0012\n",
            "Epoch 36/50\n",
            "868/868 [==============================] - 14s 16ms/step - loss: 1.9944\n",
            "Epoch 37/50\n",
            "868/868 [==============================] - 14s 16ms/step - loss: 1.9910\n",
            "Epoch 38/50\n",
            "868/868 [==============================] - 14s 16ms/step - loss: 1.9763\n",
            "Epoch 39/50\n",
            "868/868 [==============================] - 14s 16ms/step - loss: 1.9894\n",
            "Epoch 40/50\n",
            "868/868 [==============================] - 14s 16ms/step - loss: 1.9686\n",
            "Epoch 41/50\n",
            "868/868 [==============================] - 14s 16ms/step - loss: 1.9509\n",
            "Epoch 42/50\n",
            "868/868 [==============================] - 14s 16ms/step - loss: 1.9333\n",
            "Epoch 43/50\n",
            "868/868 [==============================] - 14s 16ms/step - loss: 1.9281\n",
            "Epoch 44/50\n",
            "868/868 [==============================] - 14s 16ms/step - loss: 1.9288\n",
            "Epoch 45/50\n",
            "868/868 [==============================] - 14s 16ms/step - loss: 2.3814\n",
            "Epoch 46/50\n",
            "868/868 [==============================] - 14s 16ms/step - loss: 2.0060\n",
            "Epoch 47/50\n",
            "868/868 [==============================] - 14s 16ms/step - loss: 1.9855\n",
            "Epoch 48/50\n",
            "868/868 [==============================] - 14s 16ms/step - loss: 1.9640\n",
            "Epoch 49/50\n",
            "868/868 [==============================] - 14s 16ms/step - loss: 1.9375\n",
            "Epoch 50/50\n",
            "868/868 [==============================] - 14s 16ms/step - loss: 1.9102\n"
          ]
        }
      ],
      "source": [
        "model = ssd_model()\n",
        "# model.summary()\n",
        "sgd = SGD(lr=0.01, momentum=0.01, decay=0.0, nesterov=False)\n",
        "model.compile(optimizer=sgd, loss=ssd_Loss)\n",
        "history = model.fit(ssd_train_x, ssd_train_y, epochs=50)\n",
        "model.save(\"/content/drive/My Drive/jobe/dataset/models/model2.h5\")"
      ]
    },
    {
      "cell_type": "code",
      "execution_count": null,
      "metadata": {
        "colab": {},
        "colab_type": "code",
        "id": "xB-vULhnxnde",
        "vscode": {
          "languageId": "python"
        }
      },
      "outputs": [],
      "source": [
        "# model_prediction = model.predict(ssd_train_x[270:271])  ## 70, "
      ]
    },
    {
      "cell_type": "code",
      "execution_count": null,
      "metadata": {
        "colab": {},
        "colab_type": "code",
        "id": "bjwlIYRHx7Ju",
        "vscode": {
          "languageId": "python"
        }
      },
      "outputs": [],
      "source": [
        "# decode_model_pred = decode_ssd_out(model_prediction, conf_th = 0.8, iou_th = 0.45, top_k = 10)"
      ]
    },
    {
      "cell_type": "code",
      "execution_count": null,
      "metadata": {
        "colab": {},
        "colab_type": "code",
        "id": "5Na5uczWyHd6",
        "vscode": {
          "languageId": "python"
        }
      },
      "outputs": [],
      "source": [
        "# plot_one_sample(ssd_train_x[270],decode_model_pred[0], score=True, org_image = False)"
      ]
    },
    {
      "cell_type": "markdown",
      "metadata": {
        "colab_type": "text",
        "id": "abmI5CYLS2ff"
      },
      "source": [
        "## step 10: Evaluate SSD model on test data"
      ]
    },
    {
      "cell_type": "code",
      "execution_count": null,
      "metadata": {
        "colab": {},
        "colab_type": "code",
        "id": "VWv3q2JrnHPh",
        "vscode": {
          "languageId": "python"
        }
      },
      "outputs": [],
      "source": [
        "from keras.models import load_model\n",
        "\n",
        "model = load_model(\"/content/drive/My Drive/jobe/dataset/models/model2.h5\")"
      ]
    },
    {
      "cell_type": "code",
      "execution_count": 111,
      "metadata": {
        "colab": {
          "base_uri": "https://localhost:8080/",
          "height": 201,
          "referenced_widgets": [
            "c0ae72b925344206a2e73396965399ef",
            "c53ac8af2f9842769c3588a38a1913ac",
            "37f62eec6298468aaca017deed54af13",
            "ade1187e1bb845dbb1ba94ad4fe57b5e",
            "0132b0897f194b75979f11c1ef14e881",
            "111f11ea153340a4bb98a14833d4cac4",
            "71919f6b685948cea2e067120278ee3d",
            "37116181836f47bcaaef76aa26ea8fc2",
            "e72f81148fa6492282e6b512395f001a",
            "693010f4e66e43fa91a7d02d611edf3c",
            "7e6b81c296cd4056a6ce210cff10e798",
            "21509355ac0b4a1aa9248a4688d18a3a",
            "21efb3dd43064515ba1a777caf7666d0",
            "ac49d2c47e434fa1b6465d77d725600d",
            "3cb0a45efd12431b8282b119942c4258",
            "91484d50b82d4093bf90caefea56e6c6",
            "ca5ec67da79c4185926e3e4819aa7983",
            "2075ec4fde3d489187908948bd6cc7a2",
            "dcc89fcb804e4dc0aab622f204aa48ca",
            "e3b0afd8948e4ce787f25c2cd21530e6",
            "08d4c9298fc840b2a0c36399cc2a8671",
            "bf56906cec6e4967bf57deb399c7089c",
            "11613451cfed42fb94eb4dbcc8dc8970",
            "2b3a981c4377440da666e158e9a64448"
          ]
        },
        "colab_type": "code",
        "id": "rknSaPG3S3sR",
        "outputId": "34d134ee-751a-4257-9320-9ed2b9eb71d7",
        "vscode": {
          "languageId": "python"
        }
      },
      "outputs": [
        {
          "data": {
            "application/vnd.jupyter.widget-view+json": {
              "model_id": "c0ae72b925344206a2e73396965399ef",
              "version_major": 2,
              "version_minor": 0
            },
            "text/plain": [
              "HBox(children=(IntProgress(value=0, description='load images', max=104, style=ProgressStyle(description_width=…"
            ]
          },
          "metadata": {
            "tags": []
          },
          "output_type": "display_data"
        },
        {
          "name": "stdout",
          "output_type": "stream",
          "text": [
            "\n",
            "# images : 104\n"
          ]
        },
        {
          "data": {
            "application/vnd.jupyter.widget-view+json": {
              "model_id": "e72f81148fa6492282e6b512395f001a",
              "version_major": 2,
              "version_minor": 0
            },
            "text/plain": [
              "HBox(children=(IntProgress(value=0, description='load labels', max=104, style=ProgressStyle(description_width=…"
            ]
          },
          "metadata": {
            "tags": []
          },
          "output_type": "display_data"
        },
        {
          "name": "stdout",
          "output_type": "stream",
          "text": [
            "\n",
            "# labels : 104\n"
          ]
        },
        {
          "data": {
            "application/vnd.jupyter.widget-view+json": {
              "model_id": "ca5ec67da79c4185926e3e4819aa7983",
              "version_major": 2,
              "version_minor": 0
            },
            "text/plain": [
              "HBox(children=(IntProgress(value=0, description='resize', max=104, style=ProgressStyle(description_width='init…"
            ]
          },
          "metadata": {
            "tags": []
          },
          "output_type": "display_data"
        },
        {
          "name": "stdout",
          "output_type": "stream",
          "text": [
            "\n"
          ]
        }
      ],
      "source": [
        "test_img, test_lab = read_data(test_img_path, test_label_path)\n",
        "\n",
        "test_image = np.copy(test_img)\n",
        "test_label = np.copy(test_lab)\n",
        "re_test_image, re_test_label = resize(test_image, test_label, new_size=img_size)\n",
        "\n",
        "ssd_test_img = np.asarray(re_test_image)\n",
        "ssd_test_img = ssd_test_img/255\n"
      ]
    },
    {
      "cell_type": "code",
      "execution_count": null,
      "metadata": {
        "colab": {},
        "colab_type": "code",
        "id": "An8CLyndUlOg",
        "vscode": {
          "languageId": "python"
        }
      },
      "outputs": [],
      "source": [
        "test_pred = model.predict(ssd_test_img)"
      ]
    },
    {
      "cell_type": "code",
      "execution_count": 148,
      "metadata": {
        "colab": {
          "base_uri": "https://localhost:8080/",
          "height": 67,
          "referenced_widgets": [
            "e602b4593a2c4b0283baed32f3733ec9",
            "998fafc8f6a542f8863da0c7ace16a2b",
            "34b659fad53940fe86d9ed33f12805be",
            "f85ce2ab3fb64c01b1df5749fbc11709",
            "d3671e4926954feb8b96548d21aac5ea",
            "7aa9bb2e35aa4dae88e4f4dba19d8b7f",
            "24b59ead465948f58104f15cdee8d9c9",
            "c3fa929161e547fab55d5075a5853488"
          ]
        },
        "colab_type": "code",
        "id": "oVH7vyO2VMWV",
        "outputId": "03d98a80-7a30-43be-b78b-8d5d8fe69a39",
        "vscode": {
          "languageId": "python"
        }
      },
      "outputs": [
        {
          "data": {
            "application/vnd.jupyter.widget-view+json": {
              "model_id": "e602b4593a2c4b0283baed32f3733ec9",
              "version_major": 2,
              "version_minor": 0
            },
            "text/plain": [
              "HBox(children=(IntProgress(value=0, max=104), HTML(value='')))"
            ]
          },
          "metadata": {
            "tags": []
          },
          "output_type": "display_data"
        },
        {
          "name": "stdout",
          "output_type": "stream",
          "text": [
            "\n"
          ]
        }
      ],
      "source": [
        "decode_test_pred = decode_ssd_out(test_pred, conf_th = 0.9, iou_th = 0.45, top_k = 20)"
      ]
    },
    {
      "cell_type": "markdown",
      "metadata": {},
      "source": [
        "## step 11: visualization and result"
      ]
    },
    {
      "cell_type": "code",
      "execution_count": null,
      "metadata": {
        "colab": {},
        "colab_type": "code",
        "id": "sIPL96HumKCn",
        "vscode": {
          "languageId": "python"
        }
      },
      "outputs": [],
      "source": [
        "def plot_one_sample(sample, label, pred_label, score = False, org_image = False):\n",
        "  n_classes = 2\n",
        "  classes = ['background', 'baseball', 'tennis']\n",
        "  colors = ['red', 'blue']\n",
        "  plt.figure(figsize=(20,12))\n",
        "  plt.imshow(sample)\n",
        "  current_axis = plt.gca()\n",
        "  for box in pred_label:\n",
        "    w = box[4]\n",
        "    h = box[5]\n",
        "    x = box[2] - (w/2)\n",
        "    y = box[3] - (h/2)\n",
        "    color = colors[int(box[0]) - 1]\n",
        "    # label = '{}'.format(classes[int(box[0])])\n",
        "    current_axis.add_patch(plt.Rectangle((x, y), w, h, color=color, fill=False, linewidth=2))\n",
        "    current_axis.text(x, y, '{}'.format(round(box[1], 2)), size='x-large', color='white', bbox={'facecolor':color, 'alpha':1.0})\n",
        "  for b in label:\n",
        "    w = b[3]\n",
        "    h = b[4]\n",
        "    x = b[1] - (w/2)\n",
        "    y = b[2] - (h/2)\n",
        "    if org_image == True:\n",
        "      new_size = 300\n",
        "      hh = sample.shape[0] / new_size\n",
        "      ww = sample.shape[1] / new_size\n",
        "      w = w*ww\n",
        "      h = h*hh\n",
        "      x = x*ww\n",
        "      y = y*hh\n",
        "    current_axis.add_patch(plt.Rectangle((x, y), w, h, color='cyan', fill=False, linewidth=4)) "
      ]
    },
    {
      "cell_type": "code",
      "execution_count": 149,
      "metadata": {
        "colab": {
          "base_uri": "https://localhost:8080/",
          "height": 705
        },
        "colab_type": "code",
        "id": "xCwW5NV6ltzy",
        "outputId": "4ca6e123-05df-492a-8097-1278931929d4",
        "vscode": {
          "languageId": "python"
        }
      },
      "outputs": [
        {
          "data": {
            "image/png": "[encoded data removed]",
            "text/plain": [
              "<Figure size 1440x864 with 1 Axes>"
            ]
          },
          "metadata": {
            "tags": []
          },
          "output_type": "display_data"
        }
      ],
      "source": [
        "plot_one_sample( ssd_test_img[100], re_test_label[100], decode_test_pred[100],  org_image = False )"
      ]
    },
    {
      "cell_type": "code",
      "execution_count": 238,
      "metadata": {
        "colab": {
          "base_uri": "https://localhost:8080/",
          "height": 35
        },
        "colab_type": "code",
        "id": "mSzB7aNWte4P",
        "outputId": "be7012fa-22d4-4b9c-d970-3eac26bbddc5",
        "vscode": {
          "languageId": "python"
        }
      },
      "outputs": [
        {
          "name": "stdout",
          "output_type": "stream",
          "text": [
            "mAP for test img : 0.35311760063141284\n"
          ]
        }
      ],
      "source": [
        "AP, meanAP = mAP(re_test_label, decode_test_pred)\n",
        "print('mAP for test img : {}'.format(meanAP))"
      ]
    },
    {
      "cell_type": "code",
      "execution_count": 246,
      "metadata": {
        "colab": {
          "base_uri": "https://localhost:8080/",
          "height": 703
        },
        "colab_type": "code",
        "id": "_ndu9rrO8yH4",
        "outputId": "4776da7a-9ac3-4ae2-8a4e-bfecf4b7b28a",
        "vscode": {
          "languageId": "python"
        }
      },
      "outputs": [
        {
          "data": {
            "image/png": "[encoded data removed]",
            "text/plain": [
              "<Figure size 1440x864 with 1 Axes>"
            ]
          },
          "metadata": {
            "tags": []
          },
          "output_type": "display_data"
        }
      ],
      "source": [
        "i = 103\n",
        "plot_one_sample( ssd_test_img[i], re_test_label[i], decode_test_pred[i], org_image = False )"
      ]
    },
    {
      "cell_type": "code",
      "execution_count": 273,
      "metadata": {
        "colab": {
          "base_uri": "https://localhost:8080/",
          "height": 705
        },
        "colab_type": "code",
        "id": "P7pm469l9LRd",
        "outputId": "84bf3080-7540-4906-82ab-2a0fca7187e5",
        "vscode": {
          "languageId": "python"
        }
      },
      "outputs": [
        {
          "data": {
            "image/png": "[encoded data removed]",
            "text/plain": [
              "<Figure size 1440x864 with 1 Axes>"
            ]
          },
          "metadata": {
            "tags": []
          },
          "output_type": "display_data"
        }
      ],
      "source": [
        "i = 98  \n",
        "plot_one_sample(ssd_test_img[i],re_test_label[i],decode_test_pred[i],org_image = False)"
      ]
    }
  ],
  "metadata": {
    "accelerator": "GPU",
    "colab": {
      "collapsed_sections": [
        "p-C5lh7790Mo"
      ],
      "name": "HW12_3_v3.ipynb",
      "provenance": []
    },
    "kernelspec": {
      "display_name": "Python 3",
      "name": "python3"
    },
    "widgets": {
      "application/vnd.jupyter.widget-state+json": {
        "00616595982d4cf8bc5951e7ec1661ff": {
          "model_module": "@jupyter-widgets/controls",
          "model_name": "HTMLModel",
          "state": {
            "_dom_classes": [],
            "_model_module": "@jupyter-widgets/controls",
            "_model_module_version": "1.5.0",
            "_model_name": "HTMLModel",
            "_view_count": null,
            "_view_module": "@jupyter-widgets/controls",
            "_view_module_version": "1.5.0",
            "_view_name": "HTMLView",
            "description": "",
            "description_tooltip": null,
            "layout": "IPY_MODEL_84f26aef306d42889f6114241933aa4f",
            "placeholder": "​",
            "style": "IPY_MODEL_7f69ef8e96e540568369e2633d7df40b",
            "value": "100% 316/316 [00:01&lt;00:00, 239.01it/s]"
          }
        },
        "0132b0897f194b75979f11c1ef14e881": {
          "model_module": "@jupyter-widgets/controls",
          "model_name": "ProgressStyleModel",
          "state": {
            "_model_module": "@jupyter-widgets/controls",
            "_model_module_version": "1.5.0",
            "_model_name": "ProgressStyleModel",
            "_view_count": null,
            "_view_module": "@jupyter-widgets/base",
            "_view_module_version": "1.2.0",
            "_view_name": "StyleView",
            "bar_color": null,
            "description_width": "initial"
          }
        },
        "018926d824d149aa915b2fe655243331": {
          "model_module": "@jupyter-widgets/controls",
          "model_name": "HTMLModel",
          "state": {
            "_dom_classes": [],
            "_model_module": "@jupyter-widgets/controls",
            "_model_module_version": "1.5.0",
            "_model_name": "HTMLModel",
            "_view_count": null,
            "_view_module": "@jupyter-widgets/controls",
            "_view_module_version": "1.5.0",
            "_view_name": "HTMLView",
            "description": "",
            "description_tooltip": null,
            "layout": "IPY_MODEL_c23abe7926bb4caca5fd1d8072945ae0",
            "placeholder": "​",
            "style": "IPY_MODEL_e0141c70308e4ca9bc32e82b66915469",
            "value": "100% 316/316 [02:25&lt;00:00,  2.26it/s]"
          }
        },
        "08d4c9298fc840b2a0c36399cc2a8671": {
          "model_module": "@jupyter-widgets/controls",
          "model_name": "ProgressStyleModel",
          "state": {
            "_model_module": "@jupyter-widgets/controls",
            "_model_module_version": "1.5.0",
            "_model_name": "ProgressStyleModel",
            "_view_count": null,
            "_view_module": "@jupyter-widgets/base",
            "_view_module_version": "1.2.0",
            "_view_name": "StyleView",
            "bar_color": null,
            "description_width": "initial"
          }
        },
        "111f11ea153340a4bb98a14833d4cac4": {
          "model_module": "@jupyter-widgets/base",
          "model_name": "LayoutModel",
          "state": {
            "_model_module": "@jupyter-widgets/base",
            "_model_module_version": "1.2.0",
            "_model_name": "LayoutModel",
            "_view_count": null,
            "_view_module": "@jupyter-widgets/base",
            "_view_module_version": "1.2.0",
            "_view_name": "LayoutView",
            "align_content": null,
            "align_items": null,
            "align_self": null,
            "border": null,
            "bottom": null,
            "display": null,
            "flex": null,
            "flex_flow": null,
            "grid_area": null,
            "grid_auto_columns": null,
            "grid_auto_flow": null,
            "grid_auto_rows": null,
            "grid_column": null,
            "grid_gap": null,
            "grid_row": null,
            "grid_template_areas": null,
            "grid_template_columns": null,
            "grid_template_rows": null,
            "height": null,
            "justify_content": null,
            "justify_items": null,
            "left": null,
            "margin": null,
            "max_height": null,
            "max_width": null,
            "min_height": null,
            "min_width": null,
            "object_fit": null,
            "object_position": null,
            "order": null,
            "overflow": null,
            "overflow_x": null,
            "overflow_y": null,
            "padding": null,
            "right": null,
            "top": null,
            "visibility": null,
            "width": null
          }
        },
        "11613451cfed42fb94eb4dbcc8dc8970": {
          "model_module": "@jupyter-widgets/controls",
          "model_name": "DescriptionStyleModel",
          "state": {
            "_model_module": "@jupyter-widgets/controls",
            "_model_module_version": "1.5.0",
            "_model_name": "DescriptionStyleModel",
            "_view_count": null,
            "_view_module": "@jupyter-widgets/base",
            "_view_module_version": "1.2.0",
            "_view_name": "StyleView",
            "description_width": ""
          }
        },
        "1aa8b77b93254037aa4d2fe662de847f": {
          "model_module": "@jupyter-widgets/base",
          "model_name": "LayoutModel",
          "state": {
            "_model_module": "@jupyter-widgets/base",
            "_model_module_version": "1.2.0",
            "_model_name": "LayoutModel",
            "_view_count": null,
            "_view_module": "@jupyter-widgets/base",
            "_view_module_version": "1.2.0",
            "_view_name": "LayoutView",
            "align_content": null,
            "align_items": null,
            "align_self": null,
            "border": null,
            "bottom": null,
            "display": null,
            "flex": null,
            "flex_flow": null,
            "grid_area": null,
            "grid_auto_columns": null,
            "grid_auto_flow": null,
            "grid_auto_rows": null,
            "grid_column": null,
            "grid_gap": null,
            "grid_row": null,
            "grid_template_areas": null,
            "grid_template_columns": null,
            "grid_template_rows": null,
            "height": null,
            "justify_content": null,
            "justify_items": null,
            "left": null,
            "margin": null,
            "max_height": null,
            "max_width": null,
            "min_height": null,
            "min_width": null,
            "object_fit": null,
            "object_position": null,
            "order": null,
            "overflow": null,
            "overflow_x": null,
            "overflow_y": null,
            "padding": null,
            "right": null,
            "top": null,
            "visibility": null,
            "width": null
          }
        },
        "1fce74b7f11f48f7a1e62712038b6451": {
          "model_module": "@jupyter-widgets/base",
          "model_name": "LayoutModel",
          "state": {
            "_model_module": "@jupyter-widgets/base",
            "_model_module_version": "1.2.0",
            "_model_name": "LayoutModel",
            "_view_count": null,
            "_view_module": "@jupyter-widgets/base",
            "_view_module_version": "1.2.0",
            "_view_name": "LayoutView",
            "align_content": null,
            "align_items": null,
            "align_self": null,
            "border": null,
            "bottom": null,
            "display": null,
            "flex": null,
            "flex_flow": null,
            "grid_area": null,
            "grid_auto_columns": null,
            "grid_auto_flow": null,
            "grid_auto_rows": null,
            "grid_column": null,
            "grid_gap": null,
            "grid_row": null,
            "grid_template_areas": null,
            "grid_template_columns": null,
            "grid_template_rows": null,
            "height": null,
            "justify_content": null,
            "justify_items": null,
            "left": null,
            "margin": null,
            "max_height": null,
            "max_width": null,
            "min_height": null,
            "min_width": null,
            "object_fit": null,
            "object_position": null,
            "order": null,
            "overflow": null,
            "overflow_x": null,
            "overflow_y": null,
            "padding": null,
            "right": null,
            "top": null,
            "visibility": null,
            "width": null
          }
        },
        "2075ec4fde3d489187908948bd6cc7a2": {
          "model_module": "@jupyter-widgets/base",
          "model_name": "LayoutModel",
          "state": {
            "_model_module": "@jupyter-widgets/base",
            "_model_module_version": "1.2.0",
            "_model_name": "LayoutModel",
            "_view_count": null,
            "_view_module": "@jupyter-widgets/base",
            "_view_module_version": "1.2.0",
            "_view_name": "LayoutView",
            "align_content": null,
            "align_items": null,
            "align_self": null,
            "border": null,
            "bottom": null,
            "display": null,
            "flex": null,
            "flex_flow": null,
            "grid_area": null,
            "grid_auto_columns": null,
            "grid_auto_flow": null,
            "grid_auto_rows": null,
            "grid_column": null,
            "grid_gap": null,
            "grid_row": null,
            "grid_template_areas": null,
            "grid_template_columns": null,
            "grid_template_rows": null,
            "height": null,
            "justify_content": null,
            "justify_items": null,
            "left": null,
            "margin": null,
            "max_height": null,
            "max_width": null,
            "min_height": null,
            "min_width": null,
            "object_fit": null,
            "object_position": null,
            "order": null,
            "overflow": null,
            "overflow_x": null,
            "overflow_y": null,
            "padding": null,
            "right": null,
            "top": null,
            "visibility": null,
            "width": null
          }
        },
        "21509355ac0b4a1aa9248a4688d18a3a": {
          "model_module": "@jupyter-widgets/controls",
          "model_name": "HTMLModel",
          "state": {
            "_dom_classes": [],
            "_model_module": "@jupyter-widgets/controls",
            "_model_module_version": "1.5.0",
            "_model_name": "HTMLModel",
            "_view_count": null,
            "_view_module": "@jupyter-widgets/controls",
            "_view_module_version": "1.5.0",
            "_view_name": "HTMLView",
            "description": "",
            "description_tooltip": null,
            "layout": "IPY_MODEL_91484d50b82d4093bf90caefea56e6c6",
            "placeholder": "​",
            "style": "IPY_MODEL_3cb0a45efd12431b8282b119942c4258",
            "value": "100% 104/104 [00:20&lt;00:00,  3.16it/s]"
          }
        },
        "21efb3dd43064515ba1a777caf7666d0": {
          "model_module": "@jupyter-widgets/controls",
          "model_name": "ProgressStyleModel",
          "state": {
            "_model_module": "@jupyter-widgets/controls",
            "_model_module_version": "1.5.0",
            "_model_name": "ProgressStyleModel",
            "_view_count": null,
            "_view_module": "@jupyter-widgets/base",
            "_view_module_version": "1.2.0",
            "_view_name": "StyleView",
            "bar_color": null,
            "description_width": "initial"
          }
        },
        "24b59ead465948f58104f15cdee8d9c9": {
          "model_module": "@jupyter-widgets/controls",
          "model_name": "DescriptionStyleModel",
          "state": {
            "_model_module": "@jupyter-widgets/controls",
            "_model_module_version": "1.5.0",
            "_model_name": "DescriptionStyleModel",
            "_view_count": null,
            "_view_module": "@jupyter-widgets/base",
            "_view_module_version": "1.2.0",
            "_view_name": "StyleView",
            "description_width": ""
          }
        },
        "2b3a981c4377440da666e158e9a64448": {
          "model_module": "@jupyter-widgets/base",
          "model_name": "LayoutModel",
          "state": {
            "_model_module": "@jupyter-widgets/base",
            "_model_module_version": "1.2.0",
            "_model_name": "LayoutModel",
            "_view_count": null,
            "_view_module": "@jupyter-widgets/base",
            "_view_module_version": "1.2.0",
            "_view_name": "LayoutView",
            "align_content": null,
            "align_items": null,
            "align_self": null,
            "border": null,
            "bottom": null,
            "display": null,
            "flex": null,
            "flex_flow": null,
            "grid_area": null,
            "grid_auto_columns": null,
            "grid_auto_flow": null,
            "grid_auto_rows": null,
            "grid_column": null,
            "grid_gap": null,
            "grid_row": null,
            "grid_template_areas": null,
            "grid_template_columns": null,
            "grid_template_rows": null,
            "height": null,
            "justify_content": null,
            "justify_items": null,
            "left": null,
            "margin": null,
            "max_height": null,
            "max_width": null,
            "min_height": null,
            "min_width": null,
            "object_fit": null,
            "object_position": null,
            "order": null,
            "overflow": null,
            "overflow_x": null,
            "overflow_y": null,
            "padding": null,
            "right": null,
            "top": null,
            "visibility": null,
            "width": null
          }
        },
        "2df48654c840401fb8c1498d27571252": {
          "model_module": "@jupyter-widgets/controls",
          "model_name": "DescriptionStyleModel",
          "state": {
            "_model_module": "@jupyter-widgets/controls",
            "_model_module_version": "1.5.0",
            "_model_name": "DescriptionStyleModel",
            "_view_count": null,
            "_view_module": "@jupyter-widgets/base",
            "_view_module_version": "1.2.0",
            "_view_name": "StyleView",
            "description_width": ""
          }
        },
        "32cfbdbc92264d6aa7c74f737d2dadfe": {
          "model_module": "@jupyter-widgets/base",
          "model_name": "LayoutModel",
          "state": {
            "_model_module": "@jupyter-widgets/base",
            "_model_module_version": "1.2.0",
            "_model_name": "LayoutModel",
            "_view_count": null,
            "_view_module": "@jupyter-widgets/base",
            "_view_module_version": "1.2.0",
            "_view_name": "LayoutView",
            "align_content": null,
            "align_items": null,
            "align_self": null,
            "border": null,
            "bottom": null,
            "display": null,
            "flex": null,
            "flex_flow": null,
            "grid_area": null,
            "grid_auto_columns": null,
            "grid_auto_flow": null,
            "grid_auto_rows": null,
            "grid_column": null,
            "grid_gap": null,
            "grid_row": null,
            "grid_template_areas": null,
            "grid_template_columns": null,
            "grid_template_rows": null,
            "height": null,
            "justify_content": null,
            "justify_items": null,
            "left": null,
            "margin": null,
            "max_height": null,
            "max_width": null,
            "min_height": null,
            "min_width": null,
            "object_fit": null,
            "object_position": null,
            "order": null,
            "overflow": null,
            "overflow_x": null,
            "overflow_y": null,
            "padding": null,
            "right": null,
            "top": null,
            "visibility": null,
            "width": null
          }
        },
        "34b659fad53940fe86d9ed33f12805be": {
          "model_module": "@jupyter-widgets/controls",
          "model_name": "IntProgressModel",
          "state": {
            "_dom_classes": [],
            "_model_module": "@jupyter-widgets/controls",
            "_model_module_version": "1.5.0",
            "_model_name": "IntProgressModel",
            "_view_count": null,
            "_view_module": "@jupyter-widgets/controls",
            "_view_module_version": "1.5.0",
            "_view_name": "ProgressView",
            "bar_style": "success",
            "description": "",
            "description_tooltip": null,
            "layout": "IPY_MODEL_7aa9bb2e35aa4dae88e4f4dba19d8b7f",
            "max": 104,
            "min": 0,
            "orientation": "horizontal",
            "style": "IPY_MODEL_d3671e4926954feb8b96548d21aac5ea",
            "value": 104
          }
        },
        "3590797aa10a4534870d66504d4269d7": {
          "model_module": "@jupyter-widgets/base",
          "model_name": "LayoutModel",
          "state": {
            "_model_module": "@jupyter-widgets/base",
            "_model_module_version": "1.2.0",
            "_model_name": "LayoutModel",
            "_view_count": null,
            "_view_module": "@jupyter-widgets/base",
            "_view_module_version": "1.2.0",
            "_view_name": "LayoutView",
            "align_content": null,
            "align_items": null,
            "align_self": null,
            "border": null,
            "bottom": null,
            "display": null,
            "flex": null,
            "flex_flow": null,
            "grid_area": null,
            "grid_auto_columns": null,
            "grid_auto_flow": null,
            "grid_auto_rows": null,
            "grid_column": null,
            "grid_gap": null,
            "grid_row": null,
            "grid_template_areas": null,
            "grid_template_columns": null,
            "grid_template_rows": null,
            "height": null,
            "justify_content": null,
            "justify_items": null,
            "left": null,
            "margin": null,
            "max_height": null,
            "max_width": null,
            "min_height": null,
            "min_width": null,
            "object_fit": null,
            "object_position": null,
            "order": null,
            "overflow": null,
            "overflow_x": null,
            "overflow_y": null,
            "padding": null,
            "right": null,
            "top": null,
            "visibility": null,
            "width": null
          }
        },
        "37116181836f47bcaaef76aa26ea8fc2": {
          "model_module": "@jupyter-widgets/base",
          "model_name": "LayoutModel",
          "state": {
            "_model_module": "@jupyter-widgets/base",
            "_model_module_version": "1.2.0",
            "_model_name": "LayoutModel",
            "_view_count": null,
            "_view_module": "@jupyter-widgets/base",
            "_view_module_version": "1.2.0",
            "_view_name": "LayoutView",
            "align_content": null,
            "align_items": null,
            "align_self": null,
            "border": null,
            "bottom": null,
            "display": null,
            "flex": null,
            "flex_flow": null,
            "grid_area": null,
            "grid_auto_columns": null,
            "grid_auto_flow": null,
            "grid_auto_rows": null,
            "grid_column": null,
            "grid_gap": null,
            "grid_row": null,
            "grid_template_areas": null,
            "grid_template_columns": null,
            "grid_template_rows": null,
            "height": null,
            "justify_content": null,
            "justify_items": null,
            "left": null,
            "margin": null,
            "max_height": null,
            "max_width": null,
            "min_height": null,
            "min_width": null,
            "object_fit": null,
            "object_position": null,
            "order": null,
            "overflow": null,
            "overflow_x": null,
            "overflow_y": null,
            "padding": null,
            "right": null,
            "top": null,
            "visibility": null,
            "width": null
          }
        },
        "37f62eec6298468aaca017deed54af13": {
          "model_module": "@jupyter-widgets/controls",
          "model_name": "IntProgressModel",
          "state": {
            "_dom_classes": [],
            "_model_module": "@jupyter-widgets/controls",
            "_model_module_version": "1.5.0",
            "_model_name": "IntProgressModel",
            "_view_count": null,
            "_view_module": "@jupyter-widgets/controls",
            "_view_module_version": "1.5.0",
            "_view_name": "ProgressView",
            "bar_style": "success",
            "description": "load images",
            "description_tooltip": null,
            "layout": "IPY_MODEL_111f11ea153340a4bb98a14833d4cac4",
            "max": 104,
            "min": 0,
            "orientation": "horizontal",
            "style": "IPY_MODEL_0132b0897f194b75979f11c1ef14e881",
            "value": 104
          }
        },
        "38ed8047fd38455bbf01d3b218e4ccb5": {
          "model_module": "@jupyter-widgets/controls",
          "model_name": "ProgressStyleModel",
          "state": {
            "_model_module": "@jupyter-widgets/controls",
            "_model_module_version": "1.5.0",
            "_model_name": "ProgressStyleModel",
            "_view_count": null,
            "_view_module": "@jupyter-widgets/base",
            "_view_module_version": "1.2.0",
            "_view_name": "StyleView",
            "bar_color": null,
            "description_width": "initial"
          }
        },
        "3a5774a909784125b0269c3ebf8e465b": {
          "model_module": "@jupyter-widgets/controls",
          "model_name": "IntProgressModel",
          "state": {
            "_dom_classes": [],
            "_model_module": "@jupyter-widgets/controls",
            "_model_module_version": "1.5.0",
            "_model_name": "IntProgressModel",
            "_view_count": null,
            "_view_module": "@jupyter-widgets/controls",
            "_view_module_version": "1.5.0",
            "_view_name": "ProgressView",
            "bar_style": "success",
            "description": "resize",
            "description_tooltip": null,
            "layout": "IPY_MODEL_3590797aa10a4534870d66504d4269d7",
            "max": 868,
            "min": 0,
            "orientation": "horizontal",
            "style": "IPY_MODEL_e45d3356c14449849f4bfa47cbd0adc2",
            "value": 868
          }
        },
        "3cb0a45efd12431b8282b119942c4258": {
          "model_module": "@jupyter-widgets/controls",
          "model_name": "DescriptionStyleModel",
          "state": {
            "_model_module": "@jupyter-widgets/controls",
            "_model_module_version": "1.5.0",
            "_model_name": "DescriptionStyleModel",
            "_view_count": null,
            "_view_module": "@jupyter-widgets/base",
            "_view_module_version": "1.2.0",
            "_view_name": "StyleView",
            "description_width": ""
          }
        },
        "3d429ca158694ee1b0dd188f32459c4d": {
          "model_module": "@jupyter-widgets/controls",
          "model_name": "HBoxModel",
          "state": {
            "_dom_classes": [],
            "_model_module": "@jupyter-widgets/controls",
            "_model_module_version": "1.5.0",
            "_model_name": "HBoxModel",
            "_view_count": null,
            "_view_module": "@jupyter-widgets/controls",
            "_view_module_version": "1.5.0",
            "_view_name": "HBoxView",
            "box_style": "",
            "children": [
              "IPY_MODEL_67b17baf58e34b8da594d4044c481654",
              "IPY_MODEL_00616595982d4cf8bc5951e7ec1661ff"
            ],
            "layout": "IPY_MODEL_1fce74b7f11f48f7a1e62712038b6451"
          }
        },
        "4c5222f9b2434aa1817ab98d028bfd7d": {
          "model_module": "@jupyter-widgets/controls",
          "model_name": "HBoxModel",
          "state": {
            "_dom_classes": [],
            "_model_module": "@jupyter-widgets/controls",
            "_model_module_version": "1.5.0",
            "_model_name": "HBoxModel",
            "_view_count": null,
            "_view_module": "@jupyter-widgets/controls",
            "_view_module_version": "1.5.0",
            "_view_name": "HBoxView",
            "box_style": "",
            "children": [
              "IPY_MODEL_e2b3ea3d735e448a83be332c9d6b1663",
              "IPY_MODEL_887cca0fbb584a7fb819b6c588974cc0"
            ],
            "layout": "IPY_MODEL_e64a024e4587462a9a3c3892c0d0eba3"
          }
        },
        "4cb446681b56474c981b4ccd7e113952": {
          "model_module": "@jupyter-widgets/controls",
          "model_name": "HBoxModel",
          "state": {
            "_dom_classes": [],
            "_model_module": "@jupyter-widgets/controls",
            "_model_module_version": "1.5.0",
            "_model_name": "HBoxModel",
            "_view_count": null,
            "_view_module": "@jupyter-widgets/controls",
            "_view_module_version": "1.5.0",
            "_view_name": "HBoxView",
            "box_style": "",
            "children": [
              "IPY_MODEL_3a5774a909784125b0269c3ebf8e465b",
              "IPY_MODEL_be68fd17317c4ae2aa9467059b9f328f"
            ],
            "layout": "IPY_MODEL_71474ad00a924cf0985287f082df4de3"
          }
        },
        "64786602cecb4a0bbce00727b79783be": {
          "model_module": "@jupyter-widgets/controls",
          "model_name": "DescriptionStyleModel",
          "state": {
            "_model_module": "@jupyter-widgets/controls",
            "_model_module_version": "1.5.0",
            "_model_name": "DescriptionStyleModel",
            "_view_count": null,
            "_view_module": "@jupyter-widgets/base",
            "_view_module_version": "1.2.0",
            "_view_name": "StyleView",
            "description_width": ""
          }
        },
        "65593cc097564dc5be0a7c52c4ec0235": {
          "model_module": "@jupyter-widgets/controls",
          "model_name": "IntProgressModel",
          "state": {
            "_dom_classes": [],
            "_model_module": "@jupyter-widgets/controls",
            "_model_module_version": "1.5.0",
            "_model_name": "IntProgressModel",
            "_view_count": null,
            "_view_module": "@jupyter-widgets/controls",
            "_view_module_version": "1.5.0",
            "_view_name": "ProgressView",
            "bar_style": "success",
            "description": "load images",
            "description_tooltip": null,
            "layout": "IPY_MODEL_1aa8b77b93254037aa4d2fe662de847f",
            "max": 316,
            "min": 0,
            "orientation": "horizontal",
            "style": "IPY_MODEL_38ed8047fd38455bbf01d3b218e4ccb5",
            "value": 316
          }
        },
        "67b17baf58e34b8da594d4044c481654": {
          "model_module": "@jupyter-widgets/controls",
          "model_name": "IntProgressModel",
          "state": {
            "_dom_classes": [],
            "_model_module": "@jupyter-widgets/controls",
            "_model_module_version": "1.5.0",
            "_model_name": "IntProgressModel",
            "_view_count": null,
            "_view_module": "@jupyter-widgets/controls",
            "_view_module_version": "1.5.0",
            "_view_name": "ProgressView",
            "bar_style": "success",
            "description": "Augmentating data",
            "description_tooltip": null,
            "layout": "IPY_MODEL_a60fdd04a6774be682370f0c18bbafcf",
            "max": 316,
            "min": 0,
            "orientation": "horizontal",
            "style": "IPY_MODEL_77e79611763a4d688ccb51c04551b576",
            "value": 316
          }
        },
        "693010f4e66e43fa91a7d02d611edf3c": {
          "model_module": "@jupyter-widgets/base",
          "model_name": "LayoutModel",
          "state": {
            "_model_module": "@jupyter-widgets/base",
            "_model_module_version": "1.2.0",
            "_model_name": "LayoutModel",
            "_view_count": null,
            "_view_module": "@jupyter-widgets/base",
            "_view_module_version": "1.2.0",
            "_view_name": "LayoutView",
            "align_content": null,
            "align_items": null,
            "align_self": null,
            "border": null,
            "bottom": null,
            "display": null,
            "flex": null,
            "flex_flow": null,
            "grid_area": null,
            "grid_auto_columns": null,
            "grid_auto_flow": null,
            "grid_auto_rows": null,
            "grid_column": null,
            "grid_gap": null,
            "grid_row": null,
            "grid_template_areas": null,
            "grid_template_columns": null,
            "grid_template_rows": null,
            "height": null,
            "justify_content": null,
            "justify_items": null,
            "left": null,
            "margin": null,
            "max_height": null,
            "max_width": null,
            "min_height": null,
            "min_width": null,
            "object_fit": null,
            "object_position": null,
            "order": null,
            "overflow": null,
            "overflow_x": null,
            "overflow_y": null,
            "padding": null,
            "right": null,
            "top": null,
            "visibility": null,
            "width": null
          }
        },
        "6b7f0ee7911a46c4915baaff80f7f15c": {
          "model_module": "@jupyter-widgets/base",
          "model_name": "LayoutModel",
          "state": {
            "_model_module": "@jupyter-widgets/base",
            "_model_module_version": "1.2.0",
            "_model_name": "LayoutModel",
            "_view_count": null,
            "_view_module": "@jupyter-widgets/base",
            "_view_module_version": "1.2.0",
            "_view_name": "LayoutView",
            "align_content": null,
            "align_items": null,
            "align_self": null,
            "border": null,
            "bottom": null,
            "display": null,
            "flex": null,
            "flex_flow": null,
            "grid_area": null,
            "grid_auto_columns": null,
            "grid_auto_flow": null,
            "grid_auto_rows": null,
            "grid_column": null,
            "grid_gap": null,
            "grid_row": null,
            "grid_template_areas": null,
            "grid_template_columns": null,
            "grid_template_rows": null,
            "height": null,
            "justify_content": null,
            "justify_items": null,
            "left": null,
            "margin": null,
            "max_height": null,
            "max_width": null,
            "min_height": null,
            "min_width": null,
            "object_fit": null,
            "object_position": null,
            "order": null,
            "overflow": null,
            "overflow_x": null,
            "overflow_y": null,
            "padding": null,
            "right": null,
            "top": null,
            "visibility": null,
            "width": null
          }
        },
        "71474ad00a924cf0985287f082df4de3": {
          "model_module": "@jupyter-widgets/base",
          "model_name": "LayoutModel",
          "state": {
            "_model_module": "@jupyter-widgets/base",
            "_model_module_version": "1.2.0",
            "_model_name": "LayoutModel",
            "_view_count": null,
            "_view_module": "@jupyter-widgets/base",
            "_view_module_version": "1.2.0",
            "_view_name": "LayoutView",
            "align_content": null,
            "align_items": null,
            "align_self": null,
            "border": null,
            "bottom": null,
            "display": null,
            "flex": null,
            "flex_flow": null,
            "grid_area": null,
            "grid_auto_columns": null,
            "grid_auto_flow": null,
            "grid_auto_rows": null,
            "grid_column": null,
            "grid_gap": null,
            "grid_row": null,
            "grid_template_areas": null,
            "grid_template_columns": null,
            "grid_template_rows": null,
            "height": null,
            "justify_content": null,
            "justify_items": null,
            "left": null,
            "margin": null,
            "max_height": null,
            "max_width": null,
            "min_height": null,
            "min_width": null,
            "object_fit": null,
            "object_position": null,
            "order": null,
            "overflow": null,
            "overflow_x": null,
            "overflow_y": null,
            "padding": null,
            "right": null,
            "top": null,
            "visibility": null,
            "width": null
          }
        },
        "716ececcaea746cbb5c9e93a48d86feb": {
          "model_module": "@jupyter-widgets/controls",
          "model_name": "DescriptionStyleModel",
          "state": {
            "_model_module": "@jupyter-widgets/controls",
            "_model_module_version": "1.5.0",
            "_model_name": "DescriptionStyleModel",
            "_view_count": null,
            "_view_module": "@jupyter-widgets/base",
            "_view_module_version": "1.2.0",
            "_view_name": "StyleView",
            "description_width": ""
          }
        },
        "71919f6b685948cea2e067120278ee3d": {
          "model_module": "@jupyter-widgets/controls",
          "model_name": "DescriptionStyleModel",
          "state": {
            "_model_module": "@jupyter-widgets/controls",
            "_model_module_version": "1.5.0",
            "_model_name": "DescriptionStyleModel",
            "_view_count": null,
            "_view_module": "@jupyter-widgets/base",
            "_view_module_version": "1.2.0",
            "_view_name": "StyleView",
            "description_width": ""
          }
        },
        "71fe534f304c48caa9c57681c0a65ad8": {
          "model_module": "@jupyter-widgets/controls",
          "model_name": "HTMLModel",
          "state": {
            "_dom_classes": [],
            "_model_module": "@jupyter-widgets/controls",
            "_model_module_version": "1.5.0",
            "_model_name": "HTMLModel",
            "_view_count": null,
            "_view_module": "@jupyter-widgets/controls",
            "_view_module_version": "1.5.0",
            "_view_name": "HTMLView",
            "description": "",
            "description_tooltip": null,
            "layout": "IPY_MODEL_a6d255fe4f1b4113a7028be0da6300ae",
            "placeholder": "​",
            "style": "IPY_MODEL_64786602cecb4a0bbce00727b79783be",
            "value": "100% 868/868 [05:24&lt;00:00,  3.24it/s]"
          }
        },
        "77e79611763a4d688ccb51c04551b576": {
          "model_module": "@jupyter-widgets/controls",
          "model_name": "ProgressStyleModel",
          "state": {
            "_model_module": "@jupyter-widgets/controls",
            "_model_module_version": "1.5.0",
            "_model_name": "ProgressStyleModel",
            "_view_count": null,
            "_view_module": "@jupyter-widgets/base",
            "_view_module_version": "1.2.0",
            "_view_name": "StyleView",
            "bar_color": null,
            "description_width": "initial"
          }
        },
        "78b3fe4e95fd4f92a8095e464f963860": {
          "model_module": "@jupyter-widgets/base",
          "model_name": "LayoutModel",
          "state": {
            "_model_module": "@jupyter-widgets/base",
            "_model_module_version": "1.2.0",
            "_model_name": "LayoutModel",
            "_view_count": null,
            "_view_module": "@jupyter-widgets/base",
            "_view_module_version": "1.2.0",
            "_view_name": "LayoutView",
            "align_content": null,
            "align_items": null,
            "align_self": null,
            "border": null,
            "bottom": null,
            "display": null,
            "flex": null,
            "flex_flow": null,
            "grid_area": null,
            "grid_auto_columns": null,
            "grid_auto_flow": null,
            "grid_auto_rows": null,
            "grid_column": null,
            "grid_gap": null,
            "grid_row": null,
            "grid_template_areas": null,
            "grid_template_columns": null,
            "grid_template_rows": null,
            "height": null,
            "justify_content": null,
            "justify_items": null,
            "left": null,
            "margin": null,
            "max_height": null,
            "max_width": null,
            "min_height": null,
            "min_width": null,
            "object_fit": null,
            "object_position": null,
            "order": null,
            "overflow": null,
            "overflow_x": null,
            "overflow_y": null,
            "padding": null,
            "right": null,
            "top": null,
            "visibility": null,
            "width": null
          }
        },
        "7aa9bb2e35aa4dae88e4f4dba19d8b7f": {
          "model_module": "@jupyter-widgets/base",
          "model_name": "LayoutModel",
          "state": {
            "_model_module": "@jupyter-widgets/base",
            "_model_module_version": "1.2.0",
            "_model_name": "LayoutModel",
            "_view_count": null,
            "_view_module": "@jupyter-widgets/base",
            "_view_module_version": "1.2.0",
            "_view_name": "LayoutView",
            "align_content": null,
            "align_items": null,
            "align_self": null,
            "border": null,
            "bottom": null,
            "display": null,
            "flex": null,
            "flex_flow": null,
            "grid_area": null,
            "grid_auto_columns": null,
            "grid_auto_flow": null,
            "grid_auto_rows": null,
            "grid_column": null,
            "grid_gap": null,
            "grid_row": null,
            "grid_template_areas": null,
            "grid_template_columns": null,
            "grid_template_rows": null,
            "height": null,
            "justify_content": null,
            "justify_items": null,
            "left": null,
            "margin": null,
            "max_height": null,
            "max_width": null,
            "min_height": null,
            "min_width": null,
            "object_fit": null,
            "object_position": null,
            "order": null,
            "overflow": null,
            "overflow_x": null,
            "overflow_y": null,
            "padding": null,
            "right": null,
            "top": null,
            "visibility": null,
            "width": null
          }
        },
        "7e6b81c296cd4056a6ce210cff10e798": {
          "model_module": "@jupyter-widgets/controls",
          "model_name": "IntProgressModel",
          "state": {
            "_dom_classes": [],
            "_model_module": "@jupyter-widgets/controls",
            "_model_module_version": "1.5.0",
            "_model_name": "IntProgressModel",
            "_view_count": null,
            "_view_module": "@jupyter-widgets/controls",
            "_view_module_version": "1.5.0",
            "_view_name": "ProgressView",
            "bar_style": "success",
            "description": "load labels",
            "description_tooltip": null,
            "layout": "IPY_MODEL_ac49d2c47e434fa1b6465d77d725600d",
            "max": 104,
            "min": 0,
            "orientation": "horizontal",
            "style": "IPY_MODEL_21efb3dd43064515ba1a777caf7666d0",
            "value": 104
          }
        },
        "7f69ef8e96e540568369e2633d7df40b": {
          "model_module": "@jupyter-widgets/controls",
          "model_name": "DescriptionStyleModel",
          "state": {
            "_model_module": "@jupyter-widgets/controls",
            "_model_module_version": "1.5.0",
            "_model_name": "DescriptionStyleModel",
            "_view_count": null,
            "_view_module": "@jupyter-widgets/base",
            "_view_module_version": "1.2.0",
            "_view_name": "StyleView",
            "description_width": ""
          }
        },
        "84f26aef306d42889f6114241933aa4f": {
          "model_module": "@jupyter-widgets/base",
          "model_name": "LayoutModel",
          "state": {
            "_model_module": "@jupyter-widgets/base",
            "_model_module_version": "1.2.0",
            "_model_name": "LayoutModel",
            "_view_count": null,
            "_view_module": "@jupyter-widgets/base",
            "_view_module_version": "1.2.0",
            "_view_name": "LayoutView",
            "align_content": null,
            "align_items": null,
            "align_self": null,
            "border": null,
            "bottom": null,
            "display": null,
            "flex": null,
            "flex_flow": null,
            "grid_area": null,
            "grid_auto_columns": null,
            "grid_auto_flow": null,
            "grid_auto_rows": null,
            "grid_column": null,
            "grid_gap": null,
            "grid_row": null,
            "grid_template_areas": null,
            "grid_template_columns": null,
            "grid_template_rows": null,
            "height": null,
            "justify_content": null,
            "justify_items": null,
            "left": null,
            "margin": null,
            "max_height": null,
            "max_width": null,
            "min_height": null,
            "min_width": null,
            "object_fit": null,
            "object_position": null,
            "order": null,
            "overflow": null,
            "overflow_x": null,
            "overflow_y": null,
            "padding": null,
            "right": null,
            "top": null,
            "visibility": null,
            "width": null
          }
        },
        "887cca0fbb584a7fb819b6c588974cc0": {
          "model_module": "@jupyter-widgets/controls",
          "model_name": "HTMLModel",
          "state": {
            "_dom_classes": [],
            "_model_module": "@jupyter-widgets/controls",
            "_model_module_version": "1.5.0",
            "_model_name": "HTMLModel",
            "_view_count": null,
            "_view_module": "@jupyter-widgets/controls",
            "_view_module_version": "1.5.0",
            "_view_name": "HTMLView",
            "description": "",
            "description_tooltip": null,
            "layout": "IPY_MODEL_32cfbdbc92264d6aa7c74f737d2dadfe",
            "placeholder": "​",
            "style": "IPY_MODEL_716ececcaea746cbb5c9e93a48d86feb",
            "value": "100% 316/316 [01:10&lt;00:00,  2.77it/s]"
          }
        },
        "8e6c000b9a7e453eb41adc9a8a275ec8": {
          "model_module": "@jupyter-widgets/base",
          "model_name": "LayoutModel",
          "state": {
            "_model_module": "@jupyter-widgets/base",
            "_model_module_version": "1.2.0",
            "_model_name": "LayoutModel",
            "_view_count": null,
            "_view_module": "@jupyter-widgets/base",
            "_view_module_version": "1.2.0",
            "_view_name": "LayoutView",
            "align_content": null,
            "align_items": null,
            "align_self": null,
            "border": null,
            "bottom": null,
            "display": null,
            "flex": null,
            "flex_flow": null,
            "grid_area": null,
            "grid_auto_columns": null,
            "grid_auto_flow": null,
            "grid_auto_rows": null,
            "grid_column": null,
            "grid_gap": null,
            "grid_row": null,
            "grid_template_areas": null,
            "grid_template_columns": null,
            "grid_template_rows": null,
            "height": null,
            "justify_content": null,
            "justify_items": null,
            "left": null,
            "margin": null,
            "max_height": null,
            "max_width": null,
            "min_height": null,
            "min_width": null,
            "object_fit": null,
            "object_position": null,
            "order": null,
            "overflow": null,
            "overflow_x": null,
            "overflow_y": null,
            "padding": null,
            "right": null,
            "top": null,
            "visibility": null,
            "width": null
          }
        },
        "91484d50b82d4093bf90caefea56e6c6": {
          "model_module": "@jupyter-widgets/base",
          "model_name": "LayoutModel",
          "state": {
            "_model_module": "@jupyter-widgets/base",
            "_model_module_version": "1.2.0",
            "_model_name": "LayoutModel",
            "_view_count": null,
            "_view_module": "@jupyter-widgets/base",
            "_view_module_version": "1.2.0",
            "_view_name": "LayoutView",
            "align_content": null,
            "align_items": null,
            "align_self": null,
            "border": null,
            "bottom": null,
            "display": null,
            "flex": null,
            "flex_flow": null,
            "grid_area": null,
            "grid_auto_columns": null,
            "grid_auto_flow": null,
            "grid_auto_rows": null,
            "grid_column": null,
            "grid_gap": null,
            "grid_row": null,
            "grid_template_areas": null,
            "grid_template_columns": null,
            "grid_template_rows": null,
            "height": null,
            "justify_content": null,
            "justify_items": null,
            "left": null,
            "margin": null,
            "max_height": null,
            "max_width": null,
            "min_height": null,
            "min_width": null,
            "object_fit": null,
            "object_position": null,
            "order": null,
            "overflow": null,
            "overflow_x": null,
            "overflow_y": null,
            "padding": null,
            "right": null,
            "top": null,
            "visibility": null,
            "width": null
          }
        },
        "919fb4502496483c92926ec63fc26b15": {
          "model_module": "@jupyter-widgets/base",
          "model_name": "LayoutModel",
          "state": {
            "_model_module": "@jupyter-widgets/base",
            "_model_module_version": "1.2.0",
            "_model_name": "LayoutModel",
            "_view_count": null,
            "_view_module": "@jupyter-widgets/base",
            "_view_module_version": "1.2.0",
            "_view_name": "LayoutView",
            "align_content": null,
            "align_items": null,
            "align_self": null,
            "border": null,
            "bottom": null,
            "display": null,
            "flex": null,
            "flex_flow": null,
            "grid_area": null,
            "grid_auto_columns": null,
            "grid_auto_flow": null,
            "grid_auto_rows": null,
            "grid_column": null,
            "grid_gap": null,
            "grid_row": null,
            "grid_template_areas": null,
            "grid_template_columns": null,
            "grid_template_rows": null,
            "height": null,
            "justify_content": null,
            "justify_items": null,
            "left": null,
            "margin": null,
            "max_height": null,
            "max_width": null,
            "min_height": null,
            "min_width": null,
            "object_fit": null,
            "object_position": null,
            "order": null,
            "overflow": null,
            "overflow_x": null,
            "overflow_y": null,
            "padding": null,
            "right": null,
            "top": null,
            "visibility": null,
            "width": null
          }
        },
        "9221a3c711ab4d3cae196bff55173d1e": {
          "model_module": "@jupyter-widgets/controls",
          "model_name": "ProgressStyleModel",
          "state": {
            "_model_module": "@jupyter-widgets/controls",
            "_model_module_version": "1.5.0",
            "_model_name": "ProgressStyleModel",
            "_view_count": null,
            "_view_module": "@jupyter-widgets/base",
            "_view_module_version": "1.2.0",
            "_view_name": "StyleView",
            "bar_color": null,
            "description_width": "initial"
          }
        },
        "998fafc8f6a542f8863da0c7ace16a2b": {
          "model_module": "@jupyter-widgets/base",
          "model_name": "LayoutModel",
          "state": {
            "_model_module": "@jupyter-widgets/base",
            "_model_module_version": "1.2.0",
            "_model_name": "LayoutModel",
            "_view_count": null,
            "_view_module": "@jupyter-widgets/base",
            "_view_module_version": "1.2.0",
            "_view_name": "LayoutView",
            "align_content": null,
            "align_items": null,
            "align_self": null,
            "border": null,
            "bottom": null,
            "display": null,
            "flex": null,
            "flex_flow": null,
            "grid_area": null,
            "grid_auto_columns": null,
            "grid_auto_flow": null,
            "grid_auto_rows": null,
            "grid_column": null,
            "grid_gap": null,
            "grid_row": null,
            "grid_template_areas": null,
            "grid_template_columns": null,
            "grid_template_rows": null,
            "height": null,
            "justify_content": null,
            "justify_items": null,
            "left": null,
            "margin": null,
            "max_height": null,
            "max_width": null,
            "min_height": null,
            "min_width": null,
            "object_fit": null,
            "object_position": null,
            "order": null,
            "overflow": null,
            "overflow_x": null,
            "overflow_y": null,
            "padding": null,
            "right": null,
            "top": null,
            "visibility": null,
            "width": null
          }
        },
        "a60fdd04a6774be682370f0c18bbafcf": {
          "model_module": "@jupyter-widgets/base",
          "model_name": "LayoutModel",
          "state": {
            "_model_module": "@jupyter-widgets/base",
            "_model_module_version": "1.2.0",
            "_model_name": "LayoutModel",
            "_view_count": null,
            "_view_module": "@jupyter-widgets/base",
            "_view_module_version": "1.2.0",
            "_view_name": "LayoutView",
            "align_content": null,
            "align_items": null,
            "align_self": null,
            "border": null,
            "bottom": null,
            "display": null,
            "flex": null,
            "flex_flow": null,
            "grid_area": null,
            "grid_auto_columns": null,
            "grid_auto_flow": null,
            "grid_auto_rows": null,
            "grid_column": null,
            "grid_gap": null,
            "grid_row": null,
            "grid_template_areas": null,
            "grid_template_columns": null,
            "grid_template_rows": null,
            "height": null,
            "justify_content": null,
            "justify_items": null,
            "left": null,
            "margin": null,
            "max_height": null,
            "max_width": null,
            "min_height": null,
            "min_width": null,
            "object_fit": null,
            "object_position": null,
            "order": null,
            "overflow": null,
            "overflow_x": null,
            "overflow_y": null,
            "padding": null,
            "right": null,
            "top": null,
            "visibility": null,
            "width": null
          }
        },
        "a6d255fe4f1b4113a7028be0da6300ae": {
          "model_module": "@jupyter-widgets/base",
          "model_name": "LayoutModel",
          "state": {
            "_model_module": "@jupyter-widgets/base",
            "_model_module_version": "1.2.0",
            "_model_name": "LayoutModel",
            "_view_count": null,
            "_view_module": "@jupyter-widgets/base",
            "_view_module_version": "1.2.0",
            "_view_name": "LayoutView",
            "align_content": null,
            "align_items": null,
            "align_self": null,
            "border": null,
            "bottom": null,
            "display": null,
            "flex": null,
            "flex_flow": null,
            "grid_area": null,
            "grid_auto_columns": null,
            "grid_auto_flow": null,
            "grid_auto_rows": null,
            "grid_column": null,
            "grid_gap": null,
            "grid_row": null,
            "grid_template_areas": null,
            "grid_template_columns": null,
            "grid_template_rows": null,
            "height": null,
            "justify_content": null,
            "justify_items": null,
            "left": null,
            "margin": null,
            "max_height": null,
            "max_width": null,
            "min_height": null,
            "min_width": null,
            "object_fit": null,
            "object_position": null,
            "order": null,
            "overflow": null,
            "overflow_x": null,
            "overflow_y": null,
            "padding": null,
            "right": null,
            "top": null,
            "visibility": null,
            "width": null
          }
        },
        "ac49d2c47e434fa1b6465d77d725600d": {
          "model_module": "@jupyter-widgets/base",
          "model_name": "LayoutModel",
          "state": {
            "_model_module": "@jupyter-widgets/base",
            "_model_module_version": "1.2.0",
            "_model_name": "LayoutModel",
            "_view_count": null,
            "_view_module": "@jupyter-widgets/base",
            "_view_module_version": "1.2.0",
            "_view_name": "LayoutView",
            "align_content": null,
            "align_items": null,
            "align_self": null,
            "border": null,
            "bottom": null,
            "display": null,
            "flex": null,
            "flex_flow": null,
            "grid_area": null,
            "grid_auto_columns": null,
            "grid_auto_flow": null,
            "grid_auto_rows": null,
            "grid_column": null,
            "grid_gap": null,
            "grid_row": null,
            "grid_template_areas": null,
            "grid_template_columns": null,
            "grid_template_rows": null,
            "height": null,
            "justify_content": null,
            "justify_items": null,
            "left": null,
            "margin": null,
            "max_height": null,
            "max_width": null,
            "min_height": null,
            "min_width": null,
            "object_fit": null,
            "object_position": null,
            "order": null,
            "overflow": null,
            "overflow_x": null,
            "overflow_y": null,
            "padding": null,
            "right": null,
            "top": null,
            "visibility": null,
            "width": null
          }
        },
        "ade1187e1bb845dbb1ba94ad4fe57b5e": {
          "model_module": "@jupyter-widgets/controls",
          "model_name": "HTMLModel",
          "state": {
            "_dom_classes": [],
            "_model_module": "@jupyter-widgets/controls",
            "_model_module_version": "1.5.0",
            "_model_name": "HTMLModel",
            "_view_count": null,
            "_view_module": "@jupyter-widgets/controls",
            "_view_module_version": "1.5.0",
            "_view_name": "HTMLView",
            "description": "",
            "description_tooltip": null,
            "layout": "IPY_MODEL_37116181836f47bcaaef76aa26ea8fc2",
            "placeholder": "​",
            "style": "IPY_MODEL_71919f6b685948cea2e067120278ee3d",
            "value": "100% 104/104 [00:42&lt;00:00,  2.63it/s]"
          }
        },
        "af5fe74f2cbf445aab864bcc68e1a47b": {
          "model_module": "@jupyter-widgets/base",
          "model_name": "LayoutModel",
          "state": {
            "_model_module": "@jupyter-widgets/base",
            "_model_module_version": "1.2.0",
            "_model_name": "LayoutModel",
            "_view_count": null,
            "_view_module": "@jupyter-widgets/base",
            "_view_module_version": "1.2.0",
            "_view_name": "LayoutView",
            "align_content": null,
            "align_items": null,
            "align_self": null,
            "border": null,
            "bottom": null,
            "display": null,
            "flex": null,
            "flex_flow": null,
            "grid_area": null,
            "grid_auto_columns": null,
            "grid_auto_flow": null,
            "grid_auto_rows": null,
            "grid_column": null,
            "grid_gap": null,
            "grid_row": null,
            "grid_template_areas": null,
            "grid_template_columns": null,
            "grid_template_rows": null,
            "height": null,
            "justify_content": null,
            "justify_items": null,
            "left": null,
            "margin": null,
            "max_height": null,
            "max_width": null,
            "min_height": null,
            "min_width": null,
            "object_fit": null,
            "object_position": null,
            "order": null,
            "overflow": null,
            "overflow_x": null,
            "overflow_y": null,
            "padding": null,
            "right": null,
            "top": null,
            "visibility": null,
            "width": null
          }
        },
        "b30349d38b4945008fad1e090a269353": {
          "model_module": "@jupyter-widgets/controls",
          "model_name": "ProgressStyleModel",
          "state": {
            "_model_module": "@jupyter-widgets/controls",
            "_model_module_version": "1.5.0",
            "_model_name": "ProgressStyleModel",
            "_view_count": null,
            "_view_module": "@jupyter-widgets/base",
            "_view_module_version": "1.2.0",
            "_view_name": "StyleView",
            "bar_color": null,
            "description_width": "initial"
          }
        },
        "be68fd17317c4ae2aa9467059b9f328f": {
          "model_module": "@jupyter-widgets/controls",
          "model_name": "HTMLModel",
          "state": {
            "_dom_classes": [],
            "_model_module": "@jupyter-widgets/controls",
            "_model_module_version": "1.5.0",
            "_model_name": "HTMLModel",
            "_view_count": null,
            "_view_module": "@jupyter-widgets/controls",
            "_view_module_version": "1.5.0",
            "_view_name": "HTMLView",
            "description": "",
            "description_tooltip": null,
            "layout": "IPY_MODEL_af5fe74f2cbf445aab864bcc68e1a47b",
            "placeholder": "​",
            "style": "IPY_MODEL_2df48654c840401fb8c1498d27571252",
            "value": "100% 868/868 [00:00&lt;00:00, 16236.91it/s]"
          }
        },
        "bf56906cec6e4967bf57deb399c7089c": {
          "model_module": "@jupyter-widgets/base",
          "model_name": "LayoutModel",
          "state": {
            "_model_module": "@jupyter-widgets/base",
            "_model_module_version": "1.2.0",
            "_model_name": "LayoutModel",
            "_view_count": null,
            "_view_module": "@jupyter-widgets/base",
            "_view_module_version": "1.2.0",
            "_view_name": "LayoutView",
            "align_content": null,
            "align_items": null,
            "align_self": null,
            "border": null,
            "bottom": null,
            "display": null,
            "flex": null,
            "flex_flow": null,
            "grid_area": null,
            "grid_auto_columns": null,
            "grid_auto_flow": null,
            "grid_auto_rows": null,
            "grid_column": null,
            "grid_gap": null,
            "grid_row": null,
            "grid_template_areas": null,
            "grid_template_columns": null,
            "grid_template_rows": null,
            "height": null,
            "justify_content": null,
            "justify_items": null,
            "left": null,
            "margin": null,
            "max_height": null,
            "max_width": null,
            "min_height": null,
            "min_width": null,
            "object_fit": null,
            "object_position": null,
            "order": null,
            "overflow": null,
            "overflow_x": null,
            "overflow_y": null,
            "padding": null,
            "right": null,
            "top": null,
            "visibility": null,
            "width": null
          }
        },
        "c0ae72b925344206a2e73396965399ef": {
          "model_module": "@jupyter-widgets/controls",
          "model_name": "HBoxModel",
          "state": {
            "_dom_classes": [],
            "_model_module": "@jupyter-widgets/controls",
            "_model_module_version": "1.5.0",
            "_model_name": "HBoxModel",
            "_view_count": null,
            "_view_module": "@jupyter-widgets/controls",
            "_view_module_version": "1.5.0",
            "_view_name": "HBoxView",
            "box_style": "",
            "children": [
              "IPY_MODEL_37f62eec6298468aaca017deed54af13",
              "IPY_MODEL_ade1187e1bb845dbb1ba94ad4fe57b5e"
            ],
            "layout": "IPY_MODEL_c53ac8af2f9842769c3588a38a1913ac"
          }
        },
        "c15849d0038e4318a5f4d1046270a126": {
          "model_module": "@jupyter-widgets/controls",
          "model_name": "HBoxModel",
          "state": {
            "_dom_classes": [],
            "_model_module": "@jupyter-widgets/controls",
            "_model_module_version": "1.5.0",
            "_model_name": "HBoxModel",
            "_view_count": null,
            "_view_module": "@jupyter-widgets/controls",
            "_view_module_version": "1.5.0",
            "_view_name": "HBoxView",
            "box_style": "",
            "children": [
              "IPY_MODEL_65593cc097564dc5be0a7c52c4ec0235",
              "IPY_MODEL_018926d824d149aa915b2fe655243331"
            ],
            "layout": "IPY_MODEL_78b3fe4e95fd4f92a8095e464f963860"
          }
        },
        "c182ec61f2da47c381fbb30c77747a10": {
          "model_module": "@jupyter-widgets/controls",
          "model_name": "HBoxModel",
          "state": {
            "_dom_classes": [],
            "_model_module": "@jupyter-widgets/controls",
            "_model_module_version": "1.5.0",
            "_model_name": "HBoxModel",
            "_view_count": null,
            "_view_module": "@jupyter-widgets/controls",
            "_view_module_version": "1.5.0",
            "_view_name": "HBoxView",
            "box_style": "",
            "children": [
              "IPY_MODEL_fb99dde26464405a8ff99aa5921a59b2",
              "IPY_MODEL_71fe534f304c48caa9c57681c0a65ad8"
            ],
            "layout": "IPY_MODEL_919fb4502496483c92926ec63fc26b15"
          }
        },
        "c23abe7926bb4caca5fd1d8072945ae0": {
          "model_module": "@jupyter-widgets/base",
          "model_name": "LayoutModel",
          "state": {
            "_model_module": "@jupyter-widgets/base",
            "_model_module_version": "1.2.0",
            "_model_name": "LayoutModel",
            "_view_count": null,
            "_view_module": "@jupyter-widgets/base",
            "_view_module_version": "1.2.0",
            "_view_name": "LayoutView",
            "align_content": null,
            "align_items": null,
            "align_self": null,
            "border": null,
            "bottom": null,
            "display": null,
            "flex": null,
            "flex_flow": null,
            "grid_area": null,
            "grid_auto_columns": null,
            "grid_auto_flow": null,
            "grid_auto_rows": null,
            "grid_column": null,
            "grid_gap": null,
            "grid_row": null,
            "grid_template_areas": null,
            "grid_template_columns": null,
            "grid_template_rows": null,
            "height": null,
            "justify_content": null,
            "justify_items": null,
            "left": null,
            "margin": null,
            "max_height": null,
            "max_width": null,
            "min_height": null,
            "min_width": null,
            "object_fit": null,
            "object_position": null,
            "order": null,
            "overflow": null,
            "overflow_x": null,
            "overflow_y": null,
            "padding": null,
            "right": null,
            "top": null,
            "visibility": null,
            "width": null
          }
        },
        "c3fa929161e547fab55d5075a5853488": {
          "model_module": "@jupyter-widgets/base",
          "model_name": "LayoutModel",
          "state": {
            "_model_module": "@jupyter-widgets/base",
            "_model_module_version": "1.2.0",
            "_model_name": "LayoutModel",
            "_view_count": null,
            "_view_module": "@jupyter-widgets/base",
            "_view_module_version": "1.2.0",
            "_view_name": "LayoutView",
            "align_content": null,
            "align_items": null,
            "align_self": null,
            "border": null,
            "bottom": null,
            "display": null,
            "flex": null,
            "flex_flow": null,
            "grid_area": null,
            "grid_auto_columns": null,
            "grid_auto_flow": null,
            "grid_auto_rows": null,
            "grid_column": null,
            "grid_gap": null,
            "grid_row": null,
            "grid_template_areas": null,
            "grid_template_columns": null,
            "grid_template_rows": null,
            "height": null,
            "justify_content": null,
            "justify_items": null,
            "left": null,
            "margin": null,
            "max_height": null,
            "max_width": null,
            "min_height": null,
            "min_width": null,
            "object_fit": null,
            "object_position": null,
            "order": null,
            "overflow": null,
            "overflow_x": null,
            "overflow_y": null,
            "padding": null,
            "right": null,
            "top": null,
            "visibility": null,
            "width": null
          }
        },
        "c53ac8af2f9842769c3588a38a1913ac": {
          "model_module": "@jupyter-widgets/base",
          "model_name": "LayoutModel",
          "state": {
            "_model_module": "@jupyter-widgets/base",
            "_model_module_version": "1.2.0",
            "_model_name": "LayoutModel",
            "_view_count": null,
            "_view_module": "@jupyter-widgets/base",
            "_view_module_version": "1.2.0",
            "_view_name": "LayoutView",
            "align_content": null,
            "align_items": null,
            "align_self": null,
            "border": null,
            "bottom": null,
            "display": null,
            "flex": null,
            "flex_flow": null,
            "grid_area": null,
            "grid_auto_columns": null,
            "grid_auto_flow": null,
            "grid_auto_rows": null,
            "grid_column": null,
            "grid_gap": null,
            "grid_row": null,
            "grid_template_areas": null,
            "grid_template_columns": null,
            "grid_template_rows": null,
            "height": null,
            "justify_content": null,
            "justify_items": null,
            "left": null,
            "margin": null,
            "max_height": null,
            "max_width": null,
            "min_height": null,
            "min_width": null,
            "object_fit": null,
            "object_position": null,
            "order": null,
            "overflow": null,
            "overflow_x": null,
            "overflow_y": null,
            "padding": null,
            "right": null,
            "top": null,
            "visibility": null,
            "width": null
          }
        },
        "ca5ec67da79c4185926e3e4819aa7983": {
          "model_module": "@jupyter-widgets/controls",
          "model_name": "HBoxModel",
          "state": {
            "_dom_classes": [],
            "_model_module": "@jupyter-widgets/controls",
            "_model_module_version": "1.5.0",
            "_model_name": "HBoxModel",
            "_view_count": null,
            "_view_module": "@jupyter-widgets/controls",
            "_view_module_version": "1.5.0",
            "_view_name": "HBoxView",
            "box_style": "",
            "children": [
              "IPY_MODEL_dcc89fcb804e4dc0aab622f204aa48ca",
              "IPY_MODEL_e3b0afd8948e4ce787f25c2cd21530e6"
            ],
            "layout": "IPY_MODEL_2075ec4fde3d489187908948bd6cc7a2"
          }
        },
        "d3671e4926954feb8b96548d21aac5ea": {
          "model_module": "@jupyter-widgets/controls",
          "model_name": "ProgressStyleModel",
          "state": {
            "_model_module": "@jupyter-widgets/controls",
            "_model_module_version": "1.5.0",
            "_model_name": "ProgressStyleModel",
            "_view_count": null,
            "_view_module": "@jupyter-widgets/base",
            "_view_module_version": "1.2.0",
            "_view_name": "StyleView",
            "bar_color": null,
            "description_width": ""
          }
        },
        "dcc89fcb804e4dc0aab622f204aa48ca": {
          "model_module": "@jupyter-widgets/controls",
          "model_name": "IntProgressModel",
          "state": {
            "_dom_classes": [],
            "_model_module": "@jupyter-widgets/controls",
            "_model_module_version": "1.5.0",
            "_model_name": "IntProgressModel",
            "_view_count": null,
            "_view_module": "@jupyter-widgets/controls",
            "_view_module_version": "1.5.0",
            "_view_name": "ProgressView",
            "bar_style": "success",
            "description": "resize",
            "description_tooltip": null,
            "layout": "IPY_MODEL_bf56906cec6e4967bf57deb399c7089c",
            "max": 104,
            "min": 0,
            "orientation": "horizontal",
            "style": "IPY_MODEL_08d4c9298fc840b2a0c36399cc2a8671",
            "value": 104
          }
        },
        "e0141c70308e4ca9bc32e82b66915469": {
          "model_module": "@jupyter-widgets/controls",
          "model_name": "DescriptionStyleModel",
          "state": {
            "_model_module": "@jupyter-widgets/controls",
            "_model_module_version": "1.5.0",
            "_model_name": "DescriptionStyleModel",
            "_view_count": null,
            "_view_module": "@jupyter-widgets/base",
            "_view_module_version": "1.2.0",
            "_view_name": "StyleView",
            "description_width": ""
          }
        },
        "e2b3ea3d735e448a83be332c9d6b1663": {
          "model_module": "@jupyter-widgets/controls",
          "model_name": "IntProgressModel",
          "state": {
            "_dom_classes": [],
            "_model_module": "@jupyter-widgets/controls",
            "_model_module_version": "1.5.0",
            "_model_name": "IntProgressModel",
            "_view_count": null,
            "_view_module": "@jupyter-widgets/controls",
            "_view_module_version": "1.5.0",
            "_view_name": "ProgressView",
            "bar_style": "success",
            "description": "load labels",
            "description_tooltip": null,
            "layout": "IPY_MODEL_6b7f0ee7911a46c4915baaff80f7f15c",
            "max": 316,
            "min": 0,
            "orientation": "horizontal",
            "style": "IPY_MODEL_9221a3c711ab4d3cae196bff55173d1e",
            "value": 316
          }
        },
        "e3b0afd8948e4ce787f25c2cd21530e6": {
          "model_module": "@jupyter-widgets/controls",
          "model_name": "HTMLModel",
          "state": {
            "_dom_classes": [],
            "_model_module": "@jupyter-widgets/controls",
            "_model_module_version": "1.5.0",
            "_model_name": "HTMLModel",
            "_view_count": null,
            "_view_module": "@jupyter-widgets/controls",
            "_view_module_version": "1.5.0",
            "_view_name": "HTMLView",
            "description": "",
            "description_tooltip": null,
            "layout": "IPY_MODEL_2b3a981c4377440da666e158e9a64448",
            "placeholder": "​",
            "style": "IPY_MODEL_11613451cfed42fb94eb4dbcc8dc8970",
            "value": "100% 104/104 [00:00&lt;00:00, 3605.11it/s]"
          }
        },
        "e45d3356c14449849f4bfa47cbd0adc2": {
          "model_module": "@jupyter-widgets/controls",
          "model_name": "ProgressStyleModel",
          "state": {
            "_model_module": "@jupyter-widgets/controls",
            "_model_module_version": "1.5.0",
            "_model_name": "ProgressStyleModel",
            "_view_count": null,
            "_view_module": "@jupyter-widgets/base",
            "_view_module_version": "1.2.0",
            "_view_name": "StyleView",
            "bar_color": null,
            "description_width": "initial"
          }
        },
        "e602b4593a2c4b0283baed32f3733ec9": {
          "model_module": "@jupyter-widgets/controls",
          "model_name": "HBoxModel",
          "state": {
            "_dom_classes": [],
            "_model_module": "@jupyter-widgets/controls",
            "_model_module_version": "1.5.0",
            "_model_name": "HBoxModel",
            "_view_count": null,
            "_view_module": "@jupyter-widgets/controls",
            "_view_module_version": "1.5.0",
            "_view_name": "HBoxView",
            "box_style": "",
            "children": [
              "IPY_MODEL_34b659fad53940fe86d9ed33f12805be",
              "IPY_MODEL_f85ce2ab3fb64c01b1df5749fbc11709"
            ],
            "layout": "IPY_MODEL_998fafc8f6a542f8863da0c7ace16a2b"
          }
        },
        "e64a024e4587462a9a3c3892c0d0eba3": {
          "model_module": "@jupyter-widgets/base",
          "model_name": "LayoutModel",
          "state": {
            "_model_module": "@jupyter-widgets/base",
            "_model_module_version": "1.2.0",
            "_model_name": "LayoutModel",
            "_view_count": null,
            "_view_module": "@jupyter-widgets/base",
            "_view_module_version": "1.2.0",
            "_view_name": "LayoutView",
            "align_content": null,
            "align_items": null,
            "align_self": null,
            "border": null,
            "bottom": null,
            "display": null,
            "flex": null,
            "flex_flow": null,
            "grid_area": null,
            "grid_auto_columns": null,
            "grid_auto_flow": null,
            "grid_auto_rows": null,
            "grid_column": null,
            "grid_gap": null,
            "grid_row": null,
            "grid_template_areas": null,
            "grid_template_columns": null,
            "grid_template_rows": null,
            "height": null,
            "justify_content": null,
            "justify_items": null,
            "left": null,
            "margin": null,
            "max_height": null,
            "max_width": null,
            "min_height": null,
            "min_width": null,
            "object_fit": null,
            "object_position": null,
            "order": null,
            "overflow": null,
            "overflow_x": null,
            "overflow_y": null,
            "padding": null,
            "right": null,
            "top": null,
            "visibility": null,
            "width": null
          }
        },
        "e72f81148fa6492282e6b512395f001a": {
          "model_module": "@jupyter-widgets/controls",
          "model_name": "HBoxModel",
          "state": {
            "_dom_classes": [],
            "_model_module": "@jupyter-widgets/controls",
            "_model_module_version": "1.5.0",
            "_model_name": "HBoxModel",
            "_view_count": null,
            "_view_module": "@jupyter-widgets/controls",
            "_view_module_version": "1.5.0",
            "_view_name": "HBoxView",
            "box_style": "",
            "children": [
              "IPY_MODEL_7e6b81c296cd4056a6ce210cff10e798",
              "IPY_MODEL_21509355ac0b4a1aa9248a4688d18a3a"
            ],
            "layout": "IPY_MODEL_693010f4e66e43fa91a7d02d611edf3c"
          }
        },
        "f85ce2ab3fb64c01b1df5749fbc11709": {
          "model_module": "@jupyter-widgets/controls",
          "model_name": "HTMLModel",
          "state": {
            "_dom_classes": [],
            "_model_module": "@jupyter-widgets/controls",
            "_model_module_version": "1.5.0",
            "_model_name": "HTMLModel",
            "_view_count": null,
            "_view_module": "@jupyter-widgets/controls",
            "_view_module_version": "1.5.0",
            "_view_name": "HTMLView",
            "description": "",
            "description_tooltip": null,
            "layout": "IPY_MODEL_c3fa929161e547fab55d5075a5853488",
            "placeholder": "​",
            "style": "IPY_MODEL_24b59ead465948f58104f15cdee8d9c9",
            "value": "100% 104/104 [18:28&lt;00:00, 10.12s/it]"
          }
        },
        "fb99dde26464405a8ff99aa5921a59b2": {
          "model_module": "@jupyter-widgets/controls",
          "model_name": "IntProgressModel",
          "state": {
            "_dom_classes": [],
            "_model_module": "@jupyter-widgets/controls",
            "_model_module_version": "1.5.0",
            "_model_name": "IntProgressModel",
            "_view_count": null,
            "_view_module": "@jupyter-widgets/controls",
            "_view_module_version": "1.5.0",
            "_view_name": "ProgressView",
            "bar_style": "success",
            "description": "ssd train labels:",
            "description_tooltip": null,
            "layout": "IPY_MODEL_8e6c000b9a7e453eb41adc9a8a275ec8",
            "max": 868,
            "min": 0,
            "orientation": "horizontal",
            "style": "IPY_MODEL_b30349d38b4945008fad1e090a269353",
            "value": 868
          }
        }
      }
    }
  },
  "nbformat": 4,
  "nbformat_minor": 0
}
